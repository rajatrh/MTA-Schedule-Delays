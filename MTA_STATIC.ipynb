{
  "nbformat": 4,
  "nbformat_minor": 0,
  "metadata": {
    "colab": {
      "name": "MTA_STATIC.ipynb",
      "provenance": [],
      "include_colab_link": true
    },
    "kernelspec": {
      "name": "python3",
      "display_name": "Python 3"
    }
  },
  "cells": [
    {
      "cell_type": "markdown",
      "metadata": {
        "id": "view-in-github",
        "colab_type": "text"
      },
      "source": [
        "<a href=\"https://colab.research.google.com/github/rajatrh/MTA-Schedule-Delays/blob/master/MTA_STATIC.ipynb\" target=\"_parent\"><img src=\"https://colab.research.google.com/assets/colab-badge.svg\" alt=\"Open In Colab\"/></a>"
      ]
    },
    {
      "cell_type": "code",
      "metadata": {
        "id": "O1yHf8t6x2Gj",
        "colab_type": "code",
        "colab": {}
      },
      "source": [
        "import pandas as pd\n",
        "import matplotlib.pyplot as plt\n",
        "import numpy as np\n",
        "import scipy as sc\n",
        "import seaborn as sb\n",
        "from sklearn import preprocessing\n",
        "import json\n",
        "import csv\n",
        "import requests"
      ],
      "execution_count": 0,
      "outputs": []
    },
    {
      "cell_type": "code",
      "metadata": {
        "id": "dhfiQHMGflW5",
        "colab_type": "code",
        "colab": {}
      },
      "source": [
        "url = \"http://web.mta.info/developers/data/lirr/lirr_gtfs.json\"\n",
        "response = requests.request(\"GET\", url)"
      ],
      "execution_count": 0,
      "outputs": []
    },
    {
      "cell_type": "code",
      "metadata": {
        "id": "B8wAvmgwgelr",
        "colab_type": "code",
        "colab": {}
      },
      "source": [
        "json_parsed = json.loads(response.text)"
      ],
      "execution_count": 0,
      "outputs": []
    },
    {
      "cell_type": "code",
      "metadata": {
        "id": "ExBy9v8_wQDQ",
        "colab_type": "code",
        "colab": {
          "base_uri": "https://localhost:8080/",
          "height": 34
        },
        "outputId": "fa6f536b-3051-47a5-8756-008bad192a2c"
      },
      "source": [
        "json_parsed.keys()"
      ],
      "execution_count": 7,
      "outputs": [
        {
          "output_type": "execute_result",
          "data": {
            "text/plain": [
              "dict_keys(['agency_id', 'feed_version', 'revised', 'gtfs'])"
            ]
          },
          "metadata": {
            "tags": []
          },
          "execution_count": 7
        }
      ]
    },
    {
      "cell_type": "code",
      "metadata": {
        "id": "Y5406o_rw5kK",
        "colab_type": "code",
        "colab": {
          "base_uri": "https://localhost:8080/",
          "height": 34
        },
        "outputId": "f1e90be3-9dcd-42c3-812a-64cd5dfcb15e"
      },
      "source": [
        "json_parsed['gtfs'].keys()"
      ],
      "execution_count": 11,
      "outputs": [
        {
          "output_type": "execute_result",
          "data": {
            "text/plain": [
              "dict_keys(['feed_info', 'agency', 'stops', 'routes', 'shapes', 'trips', 'stop_times', 'calendar_dates'])"
            ]
          },
          "metadata": {
            "tags": []
          },
          "execution_count": 11
        }
      ]
    },
    {
      "cell_type": "markdown",
      "metadata": {
        "id": "obtpRtMJ1lOf",
        "colab_type": "text"
      },
      "source": [
        "##Stops - LIRR"
      ]
    },
    {
      "cell_type": "code",
      "metadata": {
        "id": "HamPefNqxB3j",
        "colab_type": "code",
        "colab": {
          "base_uri": "https://localhost:8080/",
          "height": 34
        },
        "outputId": "6d149668-7074-423a-f259-3be72d60b471"
      },
      "source": [
        "json_parsed['gtfs']['stops'][0].keys()"
      ],
      "execution_count": 39,
      "outputs": [
        {
          "output_type": "execute_result",
          "data": {
            "text/plain": [
              "dict_keys(['stop_id', 'stop_name', 'stop_desc', 'stop_lat', 'stop_lon', 'stop_url', 'wheelchair_boarding'])"
            ]
          },
          "metadata": {
            "tags": []
          },
          "execution_count": 39
        }
      ]
    },
    {
      "cell_type": "code",
      "metadata": {
        "id": "ggoi7071yksd",
        "colab_type": "code",
        "colab": {}
      },
      "source": [
        "df_stops = pd.DataFrame(columns=json_parsed['gtfs']['stops'][0].keys())"
      ],
      "execution_count": 0,
      "outputs": []
    },
    {
      "cell_type": "code",
      "metadata": {
        "id": "TGrXI9GCyEId",
        "colab_type": "code",
        "colab": {}
      },
      "source": [
        "for stop in json_parsed['gtfs']['stops']:\n",
        "  list_entries = []\n",
        "  for key in stop.keys():\n",
        "    list_entries.append(stop[key])\n",
        "  df_stops = df_stops.append(pd.Series(list_entries, index=df_stops.columns ), ignore_index=True)"
      ],
      "execution_count": 0,
      "outputs": []
    },
    {
      "cell_type": "code",
      "metadata": {
        "id": "xxHt_bHs0ZR1",
        "colab_type": "code",
        "colab": {}
      },
      "source": [
        "df_stops.to_csv('stops_lirr.csv')"
      ],
      "execution_count": 0,
      "outputs": []
    },
    {
      "cell_type": "markdown",
      "metadata": {
        "id": "-CklSur91r1O",
        "colab_type": "text"
      },
      "source": [
        "##Routes - LIRR"
      ]
    },
    {
      "cell_type": "code",
      "metadata": {
        "id": "nFgRKNOoxXA3",
        "colab_type": "code",
        "colab": {
          "base_uri": "https://localhost:8080/",
          "height": 34
        },
        "outputId": "fcab5781-4a43-4289-98de-68687bc1d9fd"
      },
      "source": [
        "json_parsed['gtfs']['routes'][0].keys()"
      ],
      "execution_count": 52,
      "outputs": [
        {
          "output_type": "execute_result",
          "data": {
            "text/plain": [
              "dict_keys(['route_id', 'route_short_name', 'route_long_name', 'route_type', 'route_color', 'route_text_color'])"
            ]
          },
          "metadata": {
            "tags": []
          },
          "execution_count": 52
        }
      ]
    },
    {
      "cell_type": "code",
      "metadata": {
        "id": "wZiUouUHxPzA",
        "colab_type": "code",
        "colab": {}
      },
      "source": [
        "df_routes = pd.DataFrame(columns=json_parsed['gtfs']['routes'][0].keys())"
      ],
      "execution_count": 0,
      "outputs": []
    },
    {
      "cell_type": "code",
      "metadata": {
        "id": "2tdkxsu-13o7",
        "colab_type": "code",
        "colab": {}
      },
      "source": [
        "for route in json_parsed['gtfs']['routes']:\n",
        "  list_entries = []\n",
        "  for key in route.keys():\n",
        "    list_entries.append(route[key])\n",
        "  df_routes = df_routes.append(pd.Series(list_entries, index=df_routes.columns ), ignore_index=True)"
      ],
      "execution_count": 0,
      "outputs": []
    },
    {
      "cell_type": "code",
      "metadata": {
        "id": "zj6C_POz2Ht6",
        "colab_type": "code",
        "colab": {}
      },
      "source": [
        "df_routes.to_csv('routes_lirr.csv')"
      ],
      "execution_count": 0,
      "outputs": []
    },
    {
      "cell_type": "markdown",
      "metadata": {
        "id": "0zldlTj92ikM",
        "colab_type": "text"
      },
      "source": [
        "##Shapes - LIRR - Not Needed"
      ]
    },
    {
      "cell_type": "code",
      "metadata": {
        "id": "2jw93wsq2JGm",
        "colab_type": "code",
        "colab": {
          "base_uri": "https://localhost:8080/",
          "height": 34
        },
        "outputId": "76894891-d6c8-40c0-ee86-fba25104c2b1"
      },
      "source": [
        "json_parsed['gtfs']['shapes'][0].keys()"
      ],
      "execution_count": 57,
      "outputs": [
        {
          "output_type": "execute_result",
          "data": {
            "text/plain": [
              "dict_keys(['shape_id', 'shape_pt_lat', 'shape_pt_lon', 'shape_pt_sequence'])"
            ]
          },
          "metadata": {
            "tags": []
          },
          "execution_count": 57
        }
      ]
    },
    {
      "cell_type": "code",
      "metadata": {
        "id": "JtUAKP7X2oHl",
        "colab_type": "code",
        "colab": {}
      },
      "source": [
        "df_shapes = pd.DataFrame(columns=json_parsed['gtfs']['shapes'][0].keys())"
      ],
      "execution_count": 0,
      "outputs": []
    },
    {
      "cell_type": "code",
      "metadata": {
        "id": "hym8OymG2-gH",
        "colab_type": "code",
        "colab": {}
      },
      "source": [
        "for shape in json_parsed['gtfs']['shapes']:\n",
        "  list_entries = []\n",
        "  for key in shape.keys():\n",
        "    list_entries.append(shape[key])\n",
        "  df_shapes = df_shapes.append(pd.Series(list_entries, index=df_shapes.columns ), ignore_index=True)"
      ],
      "execution_count": 0,
      "outputs": []
    },
    {
      "cell_type": "code",
      "metadata": {
        "id": "Hft5twJ-3xYh",
        "colab_type": "code",
        "colab": {
          "base_uri": "https://localhost:8080/",
          "height": 34
        },
        "outputId": "d4f10c54-0578-40e9-867e-de5f5203cae0"
      },
      "source": [
        "len(json_parsed['gtfs']['shapes'])"
      ],
      "execution_count": 62,
      "outputs": [
        {
          "output_type": "execute_result",
          "data": {
            "text/plain": [
              "90041"
            ]
          },
          "metadata": {
            "tags": []
          },
          "execution_count": 62
        }
      ]
    },
    {
      "cell_type": "markdown",
      "metadata": {
        "id": "GpJOeTf64Kqu",
        "colab_type": "text"
      },
      "source": [
        "##Trips - LIRR"
      ]
    },
    {
      "cell_type": "code",
      "metadata": {
        "id": "FrQ3in6j3zcK",
        "colab_type": "code",
        "colab": {
          "base_uri": "https://localhost:8080/",
          "height": 34
        },
        "outputId": "3e68d18a-1d48-4bd8-9d77-3d0946d01b23"
      },
      "source": [
        "json_parsed['gtfs']['trips'][0].keys()"
      ],
      "execution_count": 63,
      "outputs": [
        {
          "output_type": "execute_result",
          "data": {
            "text/plain": [
              "dict_keys(['route_id', 'service_id', 'trip_id', 'trip_headsign', 'trip_short_name', 'direction_id', 'shape_id'])"
            ]
          },
          "metadata": {
            "tags": []
          },
          "execution_count": 63
        }
      ]
    },
    {
      "cell_type": "code",
      "metadata": {
        "id": "hc3AwbqD4Rpu",
        "colab_type": "code",
        "colab": {}
      },
      "source": [
        "df_trips = pd.DataFrame(columns=json_parsed['gtfs']['trips'][0].keys())"
      ],
      "execution_count": 0,
      "outputs": []
    },
    {
      "cell_type": "code",
      "metadata": {
        "id": "CZyByCBP4VgO",
        "colab_type": "code",
        "colab": {
          "base_uri": "https://localhost:8080/",
          "height": 34
        },
        "outputId": "4b975481-91a3-4ac0-973a-c4f22df35e79"
      },
      "source": [
        "len(json_parsed['gtfs']['trips'])"
      ],
      "execution_count": 65,
      "outputs": [
        {
          "output_type": "execute_result",
          "data": {
            "text/plain": [
              "2618"
            ]
          },
          "metadata": {
            "tags": []
          },
          "execution_count": 65
        }
      ]
    },
    {
      "cell_type": "code",
      "metadata": {
        "id": "LqB-sTCP4X44",
        "colab_type": "code",
        "colab": {}
      },
      "source": [
        "for trip in json_parsed['gtfs']['trips']:\n",
        "  list_entries = []\n",
        "  for key in trip.keys():\n",
        "    list_entries.append(trip[key])\n",
        "  df_trips = df_trips.append(pd.Series(list_entries, index=df_trips.columns ), ignore_index=True)"
      ],
      "execution_count": 0,
      "outputs": []
    },
    {
      "cell_type": "code",
      "metadata": {
        "id": "K01TDNBM4lGn",
        "colab_type": "code",
        "colab": {}
      },
      "source": [
        "df_trips.to_csv('trips_lirr.csv')"
      ],
      "execution_count": 0,
      "outputs": []
    },
    {
      "cell_type": "markdown",
      "metadata": {
        "id": "vCOkc6dd4-Nx",
        "colab_type": "text"
      },
      "source": [
        "##Stop Times - LIRR"
      ]
    },
    {
      "cell_type": "code",
      "metadata": {
        "id": "67AGZFIC4oO7",
        "colab_type": "code",
        "colab": {
          "base_uri": "https://localhost:8080/",
          "height": 34
        },
        "outputId": "b891f1ac-fd08-4ab2-b51d-a99f6a773699"
      },
      "source": [
        "json_parsed['gtfs']['stop_times'][0].keys()"
      ],
      "execution_count": 69,
      "outputs": [
        {
          "output_type": "execute_result",
          "data": {
            "text/plain": [
              "dict_keys(['trip_id', 'arrival_time', 'departure_time', 'stop_id', 'stop_sequence'])"
            ]
          },
          "metadata": {
            "tags": []
          },
          "execution_count": 69
        }
      ]
    },
    {
      "cell_type": "code",
      "metadata": {
        "id": "ZtuQ5ClE5wKa",
        "colab_type": "code",
        "colab": {}
      },
      "source": [
        "df_stop_times = pd.DataFrame(columns=json_parsed['gtfs']['stop_times'][0].keys())"
      ],
      "execution_count": 0,
      "outputs": []
    },
    {
      "cell_type": "code",
      "metadata": {
        "id": "jp1AOEFb50M2",
        "colab_type": "code",
        "colab": {
          "base_uri": "https://localhost:8080/",
          "height": 34
        },
        "outputId": "0b05d148-8665-466e-a446-9d8ccb3f7f03"
      },
      "source": [
        "len(json_parsed['gtfs']['stop_times'])"
      ],
      "execution_count": 71,
      "outputs": [
        {
          "output_type": "execute_result",
          "data": {
            "text/plain": [
              "29372"
            ]
          },
          "metadata": {
            "tags": []
          },
          "execution_count": 71
        }
      ]
    },
    {
      "cell_type": "code",
      "metadata": {
        "id": "vsPcjsl1524T",
        "colab_type": "code",
        "colab": {}
      },
      "source": [
        "i=0\n",
        "for stop_time in json_parsed['gtfs']['stop_times']:\n",
        "  if i% 1000 == 0:\n",
        "    print(i)\n",
        "  list_entries = []\n",
        "  for key in stop_time.keys():\n",
        "    list_entries.append(stop_time[key])\n",
        "  i=i+1\n",
        "  df_stop_times = df_stop_times.append(pd.Series(list_entries, index=df_stop_times.columns ), ignore_index=True)"
      ],
      "execution_count": 0,
      "outputs": []
    },
    {
      "cell_type": "code",
      "metadata": {
        "id": "X1GLUjXE63yi",
        "colab_type": "code",
        "colab": {}
      },
      "source": [
        "df_stop_times.to_csv('stop_times_lirr.csv')"
      ],
      "execution_count": 0,
      "outputs": []
    },
    {
      "cell_type": "code",
      "metadata": {
        "id": "oLPEt5-M8TCN",
        "colab_type": "code",
        "colab": {
          "base_uri": "https://localhost:8080/",
          "height": 419
        },
        "outputId": "30010202-c600-45ef-ff20-a18e1d002299"
      },
      "source": [
        "df_stop_times[df_stop_times['stop_id'] == '14']"
      ],
      "execution_count": 89,
      "outputs": [
        {
          "output_type": "execute_result",
          "data": {
            "text/html": [
              "<div>\n",
              "<style scoped>\n",
              "    .dataframe tbody tr th:only-of-type {\n",
              "        vertical-align: middle;\n",
              "    }\n",
              "\n",
              "    .dataframe tbody tr th {\n",
              "        vertical-align: top;\n",
              "    }\n",
              "\n",
              "    .dataframe thead th {\n",
              "        text-align: right;\n",
              "    }\n",
              "</style>\n",
              "<table border=\"1\" class=\"dataframe\">\n",
              "  <thead>\n",
              "    <tr style=\"text-align: right;\">\n",
              "      <th></th>\n",
              "      <th>trip_id</th>\n",
              "      <th>arrival_time</th>\n",
              "      <th>departure_time</th>\n",
              "      <th>stop_id</th>\n",
              "      <th>stop_sequence</th>\n",
              "    </tr>\n",
              "  </thead>\n",
              "  <tbody>\n",
              "    <tr>\n",
              "      <th>3166</th>\n",
              "      <td>GO505_20_600</td>\n",
              "      <td>01:32:00</td>\n",
              "      <td>01:32:00</td>\n",
              "      <td>14</td>\n",
              "      <td>7</td>\n",
              "    </tr>\n",
              "    <tr>\n",
              "      <th>3174</th>\n",
              "      <td>GO505_20_600_1</td>\n",
              "      <td>01:31:00</td>\n",
              "      <td>01:31:00</td>\n",
              "      <td>14</td>\n",
              "      <td>7</td>\n",
              "    </tr>\n",
              "    <tr>\n",
              "      <th>3177</th>\n",
              "      <td>GO505_20_601</td>\n",
              "      <td>04:28:00</td>\n",
              "      <td>04:28:00</td>\n",
              "      <td>14</td>\n",
              "      <td>2</td>\n",
              "    </tr>\n",
              "    <tr>\n",
              "      <th>3195</th>\n",
              "      <td>GO505_20_602</td>\n",
              "      <td>02:14:00</td>\n",
              "      <td>02:14:00</td>\n",
              "      <td>14</td>\n",
              "      <td>12</td>\n",
              "    </tr>\n",
              "    <tr>\n",
              "      <th>3198</th>\n",
              "      <td>GO505_20_603</td>\n",
              "      <td>05:05:00</td>\n",
              "      <td>05:05:00</td>\n",
              "      <td>14</td>\n",
              "      <td>2</td>\n",
              "    </tr>\n",
              "    <tr>\n",
              "      <th>...</th>\n",
              "      <td>...</td>\n",
              "      <td>...</td>\n",
              "      <td>...</td>\n",
              "      <td>...</td>\n",
              "      <td>...</td>\n",
              "    </tr>\n",
              "    <tr>\n",
              "      <th>24529</th>\n",
              "      <td>APP_MLX_WEST_1_6685</td>\n",
              "      <td>18:25:00</td>\n",
              "      <td>18:25:00</td>\n",
              "      <td>14</td>\n",
              "      <td>2</td>\n",
              "    </tr>\n",
              "    <tr>\n",
              "      <th>24551</th>\n",
              "      <td>APP_MLX_WEST_1_6686</td>\n",
              "      <td>21:42:00</td>\n",
              "      <td>21:42:00</td>\n",
              "      <td>14</td>\n",
              "      <td>11</td>\n",
              "    </tr>\n",
              "    <tr>\n",
              "      <th>24554</th>\n",
              "      <td>APP_MLX_WEST_1_6687</td>\n",
              "      <td>20:25:00</td>\n",
              "      <td>20:25:00</td>\n",
              "      <td>14</td>\n",
              "      <td>2</td>\n",
              "    </tr>\n",
              "    <tr>\n",
              "      <th>24576</th>\n",
              "      <td>APP_MLX_WEST_1_6688</td>\n",
              "      <td>23:42:00</td>\n",
              "      <td>23:42:00</td>\n",
              "      <td>14</td>\n",
              "      <td>11</td>\n",
              "    </tr>\n",
              "    <tr>\n",
              "      <th>24579</th>\n",
              "      <td>APP_MLX_WEST_1_6689</td>\n",
              "      <td>22:25:00</td>\n",
              "      <td>22:25:00</td>\n",
              "      <td>14</td>\n",
              "      <td>2</td>\n",
              "    </tr>\n",
              "  </tbody>\n",
              "</table>\n",
              "<p>109 rows × 5 columns</p>\n",
              "</div>"
            ],
            "text/plain": [
              "                   trip_id arrival_time departure_time stop_id stop_sequence\n",
              "3166          GO505_20_600     01:32:00       01:32:00      14             7\n",
              "3174        GO505_20_600_1     01:31:00       01:31:00      14             7\n",
              "3177          GO505_20_601     04:28:00       04:28:00      14             2\n",
              "3195          GO505_20_602     02:14:00       02:14:00      14            12\n",
              "3198          GO505_20_603     05:05:00       05:05:00      14             2\n",
              "...                    ...          ...            ...     ...           ...\n",
              "24529  APP_MLX_WEST_1_6685     18:25:00       18:25:00      14             2\n",
              "24551  APP_MLX_WEST_1_6686     21:42:00       21:42:00      14            11\n",
              "24554  APP_MLX_WEST_1_6687     20:25:00       20:25:00      14             2\n",
              "24576  APP_MLX_WEST_1_6688     23:42:00       23:42:00      14            11\n",
              "24579  APP_MLX_WEST_1_6689     22:25:00       22:25:00      14             2\n",
              "\n",
              "[109 rows x 5 columns]"
            ]
          },
          "metadata": {
            "tags": []
          },
          "execution_count": 89
        }
      ]
    },
    {
      "cell_type": "code",
      "metadata": {
        "id": "vcUDzi2P9I5e",
        "colab_type": "code",
        "colab": {}
      },
      "source": [
        ""
      ],
      "execution_count": 0,
      "outputs": []
    },
    {
      "cell_type": "code",
      "metadata": {
        "id": "1DwvBfjV9HmY",
        "colab_type": "code",
        "colab": {}
      },
      "source": [
        ""
      ],
      "execution_count": 0,
      "outputs": []
    },
    {
      "cell_type": "code",
      "metadata": {
        "id": "_vD1LKVj9CGM",
        "colab_type": "code",
        "colab": {}
      },
      "source": [
        ""
      ],
      "execution_count": 0,
      "outputs": []
    },
    {
      "cell_type": "code",
      "metadata": {
        "id": "nNRygAV-8vuZ",
        "colab_type": "code",
        "colab": {}
      },
      "source": [
        ""
      ],
      "execution_count": 0,
      "outputs": []
    },
    {
      "cell_type": "code",
      "metadata": {
        "id": "jX6NvLwm8lOF",
        "colab_type": "code",
        "colab": {
          "base_uri": "https://localhost:8080/",
          "height": 34
        },
        "outputId": "7472cf29-b01e-4b7b-938e-d9cbd670d3e0"
      },
      "source": [
        "df_stop_times['stop_id'].dtype"
      ],
      "execution_count": 87,
      "outputs": [
        {
          "output_type": "execute_result",
          "data": {
            "text/plain": [
              "dtype('O')"
            ]
          },
          "metadata": {
            "tags": []
          },
          "execution_count": 87
        }
      ]
    },
    {
      "cell_type": "code",
      "metadata": {
        "id": "Q1VfbShp9GVP",
        "colab_type": "code",
        "colab": {}
      },
      "source": [
        ""
      ],
      "execution_count": 0,
      "outputs": []
    },
    {
      "cell_type": "code",
      "metadata": {
        "id": "X_kee1c59EHh",
        "colab_type": "code",
        "colab": {}
      },
      "source": [
        ""
      ],
      "execution_count": 0,
      "outputs": []
    },
    {
      "cell_type": "code",
      "metadata": {
        "id": "AwZiHllZ8qqh",
        "colab_type": "code",
        "colab": {}
      },
      "source": [
        ""
      ],
      "execution_count": 0,
      "outputs": []
    },
    {
      "cell_type": "code",
      "metadata": {
        "id": "q7WkUAo88WDv",
        "colab_type": "code",
        "colab": {}
      },
      "source": [
        ""
      ],
      "execution_count": 0,
      "outputs": []
    },
    {
      "cell_type": "markdown",
      "metadata": {
        "id": "7k1NY4AP7NjV",
        "colab_type": "text"
      },
      "source": [
        "##Calendar Dates - LIRR"
      ]
    },
    {
      "cell_type": "code",
      "metadata": {
        "id": "q8hc2Dez7T3x",
        "colab_type": "code",
        "colab": {
          "base_uri": "https://localhost:8080/",
          "height": 34
        },
        "outputId": "7e0e4490-cd6d-48cd-aacc-b8455c0a1632"
      },
      "source": [
        "json_parsed['gtfs']['calendar_dates'][0].keys()"
      ],
      "execution_count": 76,
      "outputs": [
        {
          "output_type": "execute_result",
          "data": {
            "text/plain": [
              "dict_keys(['service_id', 'date', 'exception_type'])"
            ]
          },
          "metadata": {
            "tags": []
          },
          "execution_count": 76
        }
      ]
    },
    {
      "cell_type": "code",
      "metadata": {
        "id": "xzh59HpV7bH3",
        "colab_type": "code",
        "colab": {}
      },
      "source": [
        "df_calendar_dates = pd.DataFrame(columns=json_parsed['gtfs']['calendar_dates'][0].keys())"
      ],
      "execution_count": 0,
      "outputs": []
    },
    {
      "cell_type": "code",
      "metadata": {
        "id": "rCb9PIh37gTF",
        "colab_type": "code",
        "colab": {
          "base_uri": "https://localhost:8080/",
          "height": 34
        },
        "outputId": "af905b08-48c4-4516-e231-0d502e607d02"
      },
      "source": [
        "len(json_parsed['gtfs']['calendar_dates'])"
      ],
      "execution_count": 78,
      "outputs": [
        {
          "output_type": "execute_result",
          "data": {
            "text/plain": [
              "337"
            ]
          },
          "metadata": {
            "tags": []
          },
          "execution_count": 78
        }
      ]
    },
    {
      "cell_type": "code",
      "metadata": {
        "id": "EvdrEBaW7ppi",
        "colab_type": "code",
        "colab": {}
      },
      "source": [
        "for date in json_parsed['gtfs']['calendar_dates']:\n",
        "  list_entries = []\n",
        "  for key in date.keys():\n",
        "    list_entries.append(date[key])\n",
        "  df_calendar_dates = df_calendar_dates.append(pd.Series(list_entries, index=df_calendar_dates.columns ), ignore_index=True)"
      ],
      "execution_count": 0,
      "outputs": []
    },
    {
      "cell_type": "code",
      "metadata": {
        "id": "GK2uiYsy7zn1",
        "colab_type": "code",
        "colab": {}
      },
      "source": [
        "df_calendar_dates.to_csv('calendar_dates_lirr.csv')"
      ],
      "execution_count": 0,
      "outputs": []
    }
  ]
}