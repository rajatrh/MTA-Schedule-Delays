{
  "nbformat": 4,
  "nbformat_minor": 0,
  "metadata": {
    "colab": {
      "name": "Static_MTA.ipynb",
      "provenance": [],
      "toc_visible": true,
      "include_colab_link": true
    },
    "kernelspec": {
      "name": "python3",
      "display_name": "Python 3"
    }
  },
  "cells": [
    {
      "cell_type": "markdown",
      "metadata": {
        "id": "view-in-github",
        "colab_type": "text"
      },
      "source": [
        "<a href=\"https://colab.research.google.com/github/rajatrh/MTA-Schedule-Delays/blob/master/Static_MTA.ipynb\" target=\"_parent\"><img src=\"https://colab.research.google.com/assets/colab-badge.svg\" alt=\"Open In Colab\"/></a>"
      ]
    },
    {
      "cell_type": "code",
      "metadata": {
        "id": "O1yHf8t6x2Gj",
        "colab_type": "code",
        "colab": {}
      },
      "source": [
        "import pandas as pd\n",
        "import matplotlib.pyplot as plt\n",
        "import numpy as np\n",
        "import scipy as sc\n",
        "import seaborn as sb\n",
        "from sklearn import preprocessing\n",
        "import json\n",
        "import csv\n",
        "import requests"
      ],
      "execution_count": 0,
      "outputs": []
    },
    {
      "cell_type": "code",
      "metadata": {
        "id": "dhfiQHMGflW5",
        "colab_type": "code",
        "colab": {}
      },
      "source": [
        "url = \"http://web.mta.info/developers/data/lirr/lirr_gtfs.json\"\n",
        "response = requests.request(\"GET\", url)"
      ],
      "execution_count": 0,
      "outputs": []
    },
    {
      "cell_type": "code",
      "metadata": {
        "id": "B8wAvmgwgelr",
        "colab_type": "code",
        "colab": {}
      },
      "source": [
        "json_parsed = json.loads(response.text)"
      ],
      "execution_count": 0,
      "outputs": []
    },
    {
      "cell_type": "code",
      "metadata": {
        "id": "ExBy9v8_wQDQ",
        "colab_type": "code",
        "outputId": "15f792d4-5e01-4b78-accc-837f0258ec43",
        "colab": {
          "base_uri": "https://localhost:8080/",
          "height": 34
        }
      },
      "source": [
        "json_parsed.keys()"
      ],
      "execution_count": 0,
      "outputs": [
        {
          "output_type": "execute_result",
          "data": {
            "text/plain": [
              "dict_keys(['agency_id', 'feed_version', 'revised', 'gtfs'])"
            ]
          },
          "metadata": {
            "tags": []
          },
          "execution_count": 4
        }
      ]
    },
    {
      "cell_type": "code",
      "metadata": {
        "id": "Y5406o_rw5kK",
        "colab_type": "code",
        "colab": {}
      },
      "source": [
        "json_parsed['gtfs'].keys()"
      ],
      "execution_count": 0,
      "outputs": []
    },
    {
      "cell_type": "markdown",
      "metadata": {
        "id": "obtpRtMJ1lOf",
        "colab_type": "text"
      },
      "source": [
        "##Stops - LIRR"
      ]
    },
    {
      "cell_type": "code",
      "metadata": {
        "id": "HamPefNqxB3j",
        "colab_type": "code",
        "colab": {
          "base_uri": "https://localhost:8080/",
          "height": 34
        },
        "outputId": "fedc7513-f56b-4001-c6d5-12d3ca40e8e0"
      },
      "source": [
        "json_parsed['gtfs']['stops'][0].keys()"
      ],
      "execution_count": 16,
      "outputs": [
        {
          "output_type": "execute_result",
          "data": {
            "text/plain": [
              "dict_keys(['stop_id', 'stop_name', 'stop_desc', 'stop_lat', 'stop_lon', 'stop_url', 'wheelchair_boarding'])"
            ]
          },
          "metadata": {
            "tags": []
          },
          "execution_count": 16
        }
      ]
    },
    {
      "cell_type": "code",
      "metadata": {
        "id": "ggoi7071yksd",
        "colab_type": "code",
        "colab": {}
      },
      "source": [
        "df_stops = pd.DataFrame(columns=json_parsed['gtfs']['stops'][0].keys())"
      ],
      "execution_count": 0,
      "outputs": []
    },
    {
      "cell_type": "code",
      "metadata": {
        "id": "TGrXI9GCyEId",
        "colab_type": "code",
        "colab": {}
      },
      "source": [
        "for stop in json_parsed['gtfs']['stops']:\n",
        "  list_entries = []\n",
        "  for key in stop.keys():\n",
        "    list_entries.append(stop[key])\n",
        "  df_stops = df_stops.append(pd.Series(list_entries, index=df_stops.columns ), ignore_index=True)"
      ],
      "execution_count": 0,
      "outputs": []
    },
    {
      "cell_type": "code",
      "metadata": {
        "id": "xxHt_bHs0ZR1",
        "colab_type": "code",
        "colab": {}
      },
      "source": [
        "df_stops.to_csv('stops_lirr.csv')"
      ],
      "execution_count": 0,
      "outputs": []
    },
    {
      "cell_type": "markdown",
      "metadata": {
        "id": "-CklSur91r1O",
        "colab_type": "text"
      },
      "source": [
        "##Routes - LIRR"
      ]
    },
    {
      "cell_type": "code",
      "metadata": {
        "id": "nFgRKNOoxXA3",
        "colab_type": "code",
        "outputId": "61abe15f-48f4-4b16-d41c-349d4d845526",
        "colab": {
          "base_uri": "https://localhost:8080/",
          "height": 34
        }
      },
      "source": [
        "json_parsed['gtfs']['routes'][0].keys()"
      ],
      "execution_count": 15,
      "outputs": [
        {
          "output_type": "execute_result",
          "data": {
            "text/plain": [
              "dict_keys(['route_id', 'route_short_name', 'route_long_name', 'route_type', 'route_color', 'route_text_color'])"
            ]
          },
          "metadata": {
            "tags": []
          },
          "execution_count": 15
        }
      ]
    },
    {
      "cell_type": "code",
      "metadata": {
        "id": "wZiUouUHxPzA",
        "colab_type": "code",
        "colab": {}
      },
      "source": [
        "df_routes = pd.DataFrame(columns=json_parsed['gtfs']['routes'][0].keys())"
      ],
      "execution_count": 0,
      "outputs": []
    },
    {
      "cell_type": "code",
      "metadata": {
        "id": "2tdkxsu-13o7",
        "colab_type": "code",
        "colab": {}
      },
      "source": [
        "for route in json_parsed['gtfs']['routes']:\n",
        "  list_entries = []\n",
        "  for key in route.keys():\n",
        "    list_entries.append(route[key])\n",
        "  df_routes = df_routes.append(pd.Series(list_entries, index=df_routes.columns ), ignore_index=True)"
      ],
      "execution_count": 0,
      "outputs": []
    },
    {
      "cell_type": "code",
      "metadata": {
        "id": "zj6C_POz2Ht6",
        "colab_type": "code",
        "colab": {}
      },
      "source": [
        "df_routes.to_csv('routes_lirr.csv')"
      ],
      "execution_count": 0,
      "outputs": []
    },
    {
      "cell_type": "markdown",
      "metadata": {
        "id": "0zldlTj92ikM",
        "colab_type": "text"
      },
      "source": [
        "##Shapes - LIRR - Not Needed"
      ]
    },
    {
      "cell_type": "code",
      "metadata": {
        "id": "2jw93wsq2JGm",
        "colab_type": "code",
        "outputId": "20e66783-7385-4037-bca1-e731acfbbee4",
        "colab": {
          "base_uri": "https://localhost:8080/",
          "height": 34
        }
      },
      "source": [
        "json_parsed['gtfs']['shapes'][0].keys()"
      ],
      "execution_count": 0,
      "outputs": [
        {
          "output_type": "execute_result",
          "data": {
            "text/plain": [
              "dict_keys(['shape_id', 'shape_pt_lat', 'shape_pt_lon', 'shape_pt_sequence'])"
            ]
          },
          "metadata": {
            "tags": []
          },
          "execution_count": 7
        }
      ]
    },
    {
      "cell_type": "code",
      "metadata": {
        "id": "JtUAKP7X2oHl",
        "colab_type": "code",
        "colab": {}
      },
      "source": [
        "df_shapes = pd.DataFrame(columns=json_parsed['gtfs']['shapes'][0].keys())"
      ],
      "execution_count": 0,
      "outputs": []
    },
    {
      "cell_type": "code",
      "metadata": {
        "id": "hym8OymG2-gH",
        "colab_type": "code",
        "colab": {}
      },
      "source": [
        "i=0\n",
        "for shape in json_parsed['gtfs']['shapes']:\n",
        "  if i% 2000 == 0:\n",
        "    print(i)\n",
        "  list_entries = []\n",
        "  for key in shape.keys():\n",
        "    list_entries.append(shape[key])\n",
        "  i=i+1\n",
        "  df_shapes = df_shapes.append(pd.Series(list_entries, index=df_shapes.columns ), ignore_index=True)"
      ],
      "execution_count": 0,
      "outputs": []
    },
    {
      "cell_type": "code",
      "metadata": {
        "id": "Hft5twJ-3xYh",
        "colab_type": "code",
        "outputId": "d9858889-fe23-4001-e368-4e77c3457cdc",
        "colab": {
          "base_uri": "https://localhost:8080/",
          "height": 34
        }
      },
      "source": [
        "len(json_parsed['gtfs']['shapes'])"
      ],
      "execution_count": 0,
      "outputs": [
        {
          "output_type": "execute_result",
          "data": {
            "text/plain": [
              "89312"
            ]
          },
          "metadata": {
            "tags": []
          },
          "execution_count": 10
        }
      ]
    },
    {
      "cell_type": "code",
      "metadata": {
        "id": "i-0ORn0yNYXF",
        "colab_type": "code",
        "colab": {}
      },
      "source": [
        "df_shapes.to_csv('shapes_lirr.csv')"
      ],
      "execution_count": 0,
      "outputs": []
    },
    {
      "cell_type": "markdown",
      "metadata": {
        "id": "GpJOeTf64Kqu",
        "colab_type": "text"
      },
      "source": [
        "##Trips - LIRR"
      ]
    },
    {
      "cell_type": "code",
      "metadata": {
        "id": "FrQ3in6j3zcK",
        "colab_type": "code",
        "outputId": "3e68d18a-1d48-4bd8-9d77-3d0946d01b23",
        "colab": {
          "base_uri": "https://localhost:8080/",
          "height": 34
        }
      },
      "source": [
        "json_parsed['gtfs']['trips'][0].keys()"
      ],
      "execution_count": 0,
      "outputs": [
        {
          "output_type": "execute_result",
          "data": {
            "text/plain": [
              "dict_keys(['route_id', 'service_id', 'trip_id', 'trip_headsign', 'trip_short_name', 'direction_id', 'shape_id'])"
            ]
          },
          "metadata": {
            "tags": []
          },
          "execution_count": 63
        }
      ]
    },
    {
      "cell_type": "code",
      "metadata": {
        "id": "hc3AwbqD4Rpu",
        "colab_type": "code",
        "colab": {}
      },
      "source": [
        "df_trips = pd.DataFrame(columns=json_parsed['gtfs']['trips'][0].keys())"
      ],
      "execution_count": 0,
      "outputs": []
    },
    {
      "cell_type": "code",
      "metadata": {
        "id": "CZyByCBP4VgO",
        "colab_type": "code",
        "outputId": "4b975481-91a3-4ac0-973a-c4f22df35e79",
        "colab": {
          "base_uri": "https://localhost:8080/",
          "height": 34
        }
      },
      "source": [
        "len(json_parsed['gtfs']['trips'])"
      ],
      "execution_count": 0,
      "outputs": [
        {
          "output_type": "execute_result",
          "data": {
            "text/plain": [
              "2618"
            ]
          },
          "metadata": {
            "tags": []
          },
          "execution_count": 65
        }
      ]
    },
    {
      "cell_type": "code",
      "metadata": {
        "id": "LqB-sTCP4X44",
        "colab_type": "code",
        "colab": {}
      },
      "source": [
        "for trip in json_parsed['gtfs']['trips']:\n",
        "  list_entries = []\n",
        "  for key in trip.keys():\n",
        "    list_entries.append(trip[key])\n",
        "  df_trips = df_trips.append(pd.Series(list_entries, index=df_trips.columns ), ignore_index=True)"
      ],
      "execution_count": 0,
      "outputs": []
    },
    {
      "cell_type": "code",
      "metadata": {
        "id": "K01TDNBM4lGn",
        "colab_type": "code",
        "colab": {}
      },
      "source": [
        "df_trips.to_csv('trips_lirr.csv')"
      ],
      "execution_count": 0,
      "outputs": []
    },
    {
      "cell_type": "markdown",
      "metadata": {
        "id": "vCOkc6dd4-Nx",
        "colab_type": "text"
      },
      "source": [
        "##Stop Times - LIRR"
      ]
    },
    {
      "cell_type": "code",
      "metadata": {
        "id": "67AGZFIC4oO7",
        "colab_type": "code",
        "outputId": "b891f1ac-fd08-4ab2-b51d-a99f6a773699",
        "colab": {
          "base_uri": "https://localhost:8080/",
          "height": 34
        }
      },
      "source": [
        "json_parsed['gtfs']['stop_times'][0].keys()"
      ],
      "execution_count": 0,
      "outputs": [
        {
          "output_type": "execute_result",
          "data": {
            "text/plain": [
              "dict_keys(['trip_id', 'arrival_time', 'departure_time', 'stop_id', 'stop_sequence'])"
            ]
          },
          "metadata": {
            "tags": []
          },
          "execution_count": 69
        }
      ]
    },
    {
      "cell_type": "code",
      "metadata": {
        "id": "ZtuQ5ClE5wKa",
        "colab_type": "code",
        "colab": {}
      },
      "source": [
        "df_stop_times = pd.DataFrame(columns=json_parsed['gtfs']['stop_times'][0].keys())"
      ],
      "execution_count": 0,
      "outputs": []
    },
    {
      "cell_type": "code",
      "metadata": {
        "id": "jp1AOEFb50M2",
        "colab_type": "code",
        "outputId": "0b05d148-8665-466e-a446-9d8ccb3f7f03",
        "colab": {
          "base_uri": "https://localhost:8080/",
          "height": 34
        }
      },
      "source": [
        "len(json_parsed['gtfs']['stop_times'])"
      ],
      "execution_count": 0,
      "outputs": [
        {
          "output_type": "execute_result",
          "data": {
            "text/plain": [
              "29372"
            ]
          },
          "metadata": {
            "tags": []
          },
          "execution_count": 71
        }
      ]
    },
    {
      "cell_type": "code",
      "metadata": {
        "id": "vsPcjsl1524T",
        "colab_type": "code",
        "colab": {}
      },
      "source": [
        "i=0\n",
        "for stop_time in json_parsed['gtfs']['stop_times']:\n",
        "  if i% 1000 == 0:\n",
        "    print(i)\n",
        "  list_entries = []\n",
        "  for key in stop_time.keys():\n",
        "    list_entries.append(stop_time[key])\n",
        "  i=i+1\n",
        "  df_stop_times = df_stop_times.append(pd.Series(list_entries, index=df_stop_times.columns ), ignore_index=True)"
      ],
      "execution_count": 0,
      "outputs": []
    },
    {
      "cell_type": "code",
      "metadata": {
        "id": "X1GLUjXE63yi",
        "colab_type": "code",
        "colab": {}
      },
      "source": [
        "df_stop_times.to_csv('stop_times_lirr.csv')"
      ],
      "execution_count": 0,
      "outputs": []
    },
    {
      "cell_type": "markdown",
      "metadata": {
        "id": "7k1NY4AP7NjV",
        "colab_type": "text"
      },
      "source": [
        "##Calendar Dates - LIRR"
      ]
    },
    {
      "cell_type": "code",
      "metadata": {
        "id": "q8hc2Dez7T3x",
        "colab_type": "code",
        "outputId": "7e0e4490-cd6d-48cd-aacc-b8455c0a1632",
        "colab": {
          "base_uri": "https://localhost:8080/",
          "height": 34
        }
      },
      "source": [
        "json_parsed['gtfs']['calendar_dates'][0].keys()"
      ],
      "execution_count": 0,
      "outputs": [
        {
          "output_type": "execute_result",
          "data": {
            "text/plain": [
              "dict_keys(['service_id', 'date', 'exception_type'])"
            ]
          },
          "metadata": {
            "tags": []
          },
          "execution_count": 76
        }
      ]
    },
    {
      "cell_type": "code",
      "metadata": {
        "id": "xzh59HpV7bH3",
        "colab_type": "code",
        "colab": {}
      },
      "source": [
        "df_calendar_dates = pd.DataFrame(columns=json_parsed['gtfs']['calendar_dates'][0].keys())"
      ],
      "execution_count": 0,
      "outputs": []
    },
    {
      "cell_type": "code",
      "metadata": {
        "id": "rCb9PIh37gTF",
        "colab_type": "code",
        "outputId": "af905b08-48c4-4516-e231-0d502e607d02",
        "colab": {
          "base_uri": "https://localhost:8080/",
          "height": 34
        }
      },
      "source": [
        "len(json_parsed['gtfs']['calendar_dates'])"
      ],
      "execution_count": 0,
      "outputs": [
        {
          "output_type": "execute_result",
          "data": {
            "text/plain": [
              "337"
            ]
          },
          "metadata": {
            "tags": []
          },
          "execution_count": 78
        }
      ]
    },
    {
      "cell_type": "code",
      "metadata": {
        "id": "EvdrEBaW7ppi",
        "colab_type": "code",
        "colab": {}
      },
      "source": [
        "for date in json_parsed['gtfs']['calendar_dates']:\n",
        "  list_entries = []\n",
        "  for key in date.keys():\n",
        "    list_entries.append(date[key])\n",
        "  df_calendar_dates = df_calendar_dates.append(pd.Series(list_entries, index=df_calendar_dates.columns ), ignore_index=True)"
      ],
      "execution_count": 0,
      "outputs": []
    },
    {
      "cell_type": "code",
      "metadata": {
        "id": "GK2uiYsy7zn1",
        "colab_type": "code",
        "colab": {}
      },
      "source": [
        "df_calendar_dates.to_csv('calendar_dates_lirr.csv')"
      ],
      "execution_count": 0,
      "outputs": []
    },
    {
      "cell_type": "markdown",
      "metadata": {
        "id": "RV-ivBMjOwax",
        "colab_type": "text"
      },
      "source": [
        "##Distance Between Different Stations"
      ]
    },
    {
      "cell_type": "code",
      "metadata": {
        "id": "dxA5zpNIOvoj",
        "colab_type": "code",
        "colab": {}
      },
      "source": [
        "# Haversine Formula\n",
        "import math\n",
        "\n",
        "def distance(lat1, lon1, lat2, lon2):\n",
        "    #lat1, lon1 = origin\n",
        "    #lat2, lon2 = destination\n",
        "    radius = 6371 # km\n",
        "\n",
        "    dlat = math.radians(lat2-lat1)\n",
        "    dlon = math.radians(lon2-lon1)\n",
        "    a = math.sin(dlat/2) * math.sin(dlat/2) + math.cos(math.radians(lat1)) \\\n",
        "        * math.cos(math.radians(lat2)) * math.sin(dlon/2) * math.sin(dlon/2)\n",
        "    c = 2 * math.atan2(math.sqrt(a), math.sqrt(1-a))\n",
        "    d = radius * c\n",
        "\n",
        "    return d"
      ],
      "execution_count": 0,
      "outputs": []
    },
    {
      "cell_type": "code",
      "metadata": {
        "id": "l2xxd_1yO3nz",
        "colab_type": "code",
        "colab": {}
      },
      "source": [
        "df_stops_distance = pd.DataFrame(columns=['stop1', 'stop2', 'distance'])\n",
        "for index1, stop1 in df_stops.iterrows():\n",
        "  for index2, stop2 in df_stops.iterrows():\n",
        "    if stop1.stop_id != stop2.stop_id:\n",
        "      dist = distance(float(stop1.stop_lat), float(stop1.stop_lon), float(stop2.stop_lat), float(stop2.stop_lon))\n",
        "      df_stops_distance = df_stops_distance.append(pd.Series([stop1.stop_name, stop2.stop_name, dist], index=df_stops_distance.columns ), ignore_index=True)\n"
      ],
      "execution_count": 0,
      "outputs": []
    },
    {
      "cell_type": "code",
      "metadata": {
        "id": "q9XMM9hPPIbb",
        "colab_type": "code",
        "colab": {
          "base_uri": "https://localhost:8080/",
          "height": 170
        },
        "outputId": "28d3b417-0779-4e59-ea5c-d2570f34497a"
      },
      "source": [
        "df_stops_distance['distance'].describe()\n",
        "#min          0.640545"
      ],
      "execution_count": 30,
      "outputs": [
        {
          "output_type": "execute_result",
          "data": {
            "text/plain": [
              "count    15252.000000\n",
              "mean        39.732956\n",
              "std         34.855434\n",
              "min          0.640545\n",
              "25%         14.781754\n",
              "50%         26.661561\n",
              "75%         53.420863\n",
              "max        174.748899\n",
              "Name: distance, dtype: float64"
            ]
          },
          "metadata": {
            "tags": []
          },
          "execution_count": 30
        }
      ]
    },
    {
      "cell_type": "markdown",
      "metadata": {
        "id": "-UbtA-9w_7_T",
        "colab_type": "text"
      },
      "source": [
        ""
      ]
    },
    {
      "cell_type": "markdown",
      "metadata": {
        "id": "EnM0I7Bd_8Ev",
        "colab_type": "text"
      },
      "source": [
        ""
      ]
    },
    {
      "cell_type": "code",
      "metadata": {
        "id": "m2inpg2i_8Pw",
        "colab_type": "code",
        "colab": {
          "base_uri": "https://localhost:8080/",
          "height": 419
        },
        "outputId": "a58095b5-c69f-4bc2-fe9a-c77a87833e85"
      },
      "source": [
        "df_stops_distance"
      ],
      "execution_count": 35,
      "outputs": [
        {
          "output_type": "execute_result",
          "data": {
            "text/html": [
              "<div>\n",
              "<style scoped>\n",
              "    .dataframe tbody tr th:only-of-type {\n",
              "        vertical-align: middle;\n",
              "    }\n",
              "\n",
              "    .dataframe tbody tr th {\n",
              "        vertical-align: top;\n",
              "    }\n",
              "\n",
              "    .dataframe thead th {\n",
              "        text-align: right;\n",
              "    }\n",
              "</style>\n",
              "<table border=\"1\" class=\"dataframe\">\n",
              "  <thead>\n",
              "    <tr style=\"text-align: right;\">\n",
              "      <th></th>\n",
              "      <th>stop1</th>\n",
              "      <th>stop2</th>\n",
              "      <th>distance</th>\n",
              "    </tr>\n",
              "  </thead>\n",
              "  <tbody>\n",
              "    <tr>\n",
              "      <th>0</th>\n",
              "      <td>Penn Station</td>\n",
              "      <td>Atlantic Terminal</td>\n",
              "      <td>7.600665</td>\n",
              "    </tr>\n",
              "    <tr>\n",
              "      <th>1</th>\n",
              "      <td>Penn Station</td>\n",
              "      <td>Greenport</td>\n",
              "      <td>142.376899</td>\n",
              "    </tr>\n",
              "    <tr>\n",
              "      <th>2</th>\n",
              "      <td>Penn Station</td>\n",
              "      <td>Great River</td>\n",
              "      <td>69.373662</td>\n",
              "    </tr>\n",
              "    <tr>\n",
              "      <th>3</th>\n",
              "      <td>Penn Station</td>\n",
              "      <td>Glen Street</td>\n",
              "      <td>33.539425</td>\n",
              "    </tr>\n",
              "    <tr>\n",
              "      <th>4</th>\n",
              "      <td>Penn Station</td>\n",
              "      <td>Greenvale</td>\n",
              "      <td>31.713384</td>\n",
              "    </tr>\n",
              "    <tr>\n",
              "      <th>...</th>\n",
              "      <td>...</td>\n",
              "      <td>...</td>\n",
              "      <td>...</td>\n",
              "    </tr>\n",
              "    <tr>\n",
              "      <th>15247</th>\n",
              "      <td>Westhampton</td>\n",
              "      <td>Gibson</td>\n",
              "      <td>90.848204</td>\n",
              "    </tr>\n",
              "    <tr>\n",
              "      <th>15248</th>\n",
              "      <td>Westhampton</td>\n",
              "      <td>Glen Cove</td>\n",
              "      <td>81.335443</td>\n",
              "    </tr>\n",
              "    <tr>\n",
              "      <th>15249</th>\n",
              "      <td>Westhampton</td>\n",
              "      <td>Garden City</td>\n",
              "      <td>84.212068</td>\n",
              "    </tr>\n",
              "    <tr>\n",
              "      <th>15250</th>\n",
              "      <td>Westhampton</td>\n",
              "      <td>Glen Head</td>\n",
              "      <td>82.097619</td>\n",
              "    </tr>\n",
              "    <tr>\n",
              "      <th>15251</th>\n",
              "      <td>Westhampton</td>\n",
              "      <td>Great Neck</td>\n",
              "      <td>90.666530</td>\n",
              "    </tr>\n",
              "  </tbody>\n",
              "</table>\n",
              "<p>15252 rows × 3 columns</p>\n",
              "</div>"
            ],
            "text/plain": [
              "              stop1              stop2    distance\n",
              "0      Penn Station  Atlantic Terminal    7.600665\n",
              "1      Penn Station          Greenport  142.376899\n",
              "2      Penn Station        Great River   69.373662\n",
              "3      Penn Station        Glen Street   33.539425\n",
              "4      Penn Station          Greenvale   31.713384\n",
              "...             ...                ...         ...\n",
              "15247   Westhampton             Gibson   90.848204\n",
              "15248   Westhampton          Glen Cove   81.335443\n",
              "15249   Westhampton        Garden City   84.212068\n",
              "15250   Westhampton          Glen Head   82.097619\n",
              "15251   Westhampton         Great Neck   90.666530\n",
              "\n",
              "[15252 rows x 3 columns]"
            ]
          },
          "metadata": {
            "tags": []
          },
          "execution_count": 35
        }
      ]
    }
  ]
}