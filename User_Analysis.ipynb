{
  "nbformat": 4,
  "nbformat_minor": 0,
  "metadata": {
    "colab": {
      "name": "User_Analysis.ipynb",
      "provenance": [],
      "toc_visible": true,
      "authorship_tag": "ABX9TyMVNXqLrRL1XKVUFKDB83oI",
      "include_colab_link": true
    },
    "kernelspec": {
      "name": "python3",
      "display_name": "Python 3"
    }
  },
  "cells": [
    {
      "cell_type": "markdown",
      "metadata": {
        "id": "view-in-github",
        "colab_type": "text"
      },
      "source": [
        "<a href=\"https://colab.research.google.com/github/rajatrh/MTA-Schedule-Delays/blob/master/User_Analysis.ipynb\" target=\"_parent\"><img src=\"https://colab.research.google.com/assets/colab-badge.svg\" alt=\"Open In Colab\"/></a>"
      ]
    },
    {
      "cell_type": "code",
      "metadata": {
        "id": "QIDrgTMVFJNq",
        "colab_type": "code",
        "colab": {}
      },
      "source": [
        "import pandas as pd\n",
        "import matplotlib.pyplot as plt\n",
        "import numpy as np\n",
        "import seaborn as sb\n",
        "from dateutil import tz\n",
        "import math"
      ],
      "execution_count": 0,
      "outputs": []
    },
    {
      "cell_type": "code",
      "metadata": {
        "id": "3zTvp34bFQwR",
        "colab_type": "code",
        "colab": {}
      },
      "source": [
        "from google.colab import drive\n",
        "drive.mount('/content/drive')"
      ],
      "execution_count": 0,
      "outputs": []
    },
    {
      "cell_type": "code",
      "metadata": {
        "id": "mz5bEcyPFcuP",
        "colab_type": "code",
        "colab": {}
      },
      "source": [
        "df_crowd_source = pd.read_csv('/content/drive/My Drive/523 524/CrowdsourcingLocationLog.csv')"
      ],
      "execution_count": 0,
      "outputs": []
    },
    {
      "cell_type": "code",
      "metadata": {
        "id": "JIWKA5mlSX3w",
        "colab_type": "code",
        "colab": {}
      },
      "source": [
        "def convertToDate(dateTime):\n",
        "  cur = pd.to_datetime(dateTime, errors='coerce')\n",
        "  cur.tz_localize(None)\n",
        "  return cur.date()"
      ],
      "execution_count": 0,
      "outputs": []
    },
    {
      "cell_type": "code",
      "metadata": {
        "id": "VYLAwVsISTsN",
        "colab_type": "code",
        "colab": {}
      },
      "source": [
        "df_crowd_source['_created_at'] = df_crowd_source.apply(lambda x: convertToDate(x['_created_at']),axis=1)"
      ],
      "execution_count": 0,
      "outputs": []
    },
    {
      "cell_type": "code",
      "metadata": {
        "id": "8ZySZVXIGFLd",
        "colab_type": "code",
        "colab": {
          "base_uri": "https://localhost:8080/",
          "height": 34
        },
        "outputId": "7e0f40f9-82a4-4ee9-a47e-eac86c677f22"
      },
      "source": [
        "df_crowd_source.shape"
      ],
      "execution_count": 44,
      "outputs": [
        {
          "output_type": "execute_result",
          "data": {
            "text/plain": [
              "(1486295, 6)"
            ]
          },
          "metadata": {
            "tags": []
          },
          "execution_count": 44
        }
      ]
    },
    {
      "cell_type": "code",
      "metadata": {
        "id": "hMmKpD58GJfT",
        "colab_type": "code",
        "colab": {
          "base_uri": "https://localhost:8080/",
          "height": 80
        },
        "outputId": "8f167046-b828-4168-d239-01d88ea0e115"
      },
      "source": [
        "df_crowd_source.head(1)"
      ],
      "execution_count": 45,
      "outputs": [
        {
          "output_type": "execute_result",
          "data": {
            "text/html": [
              "<div>\n",
              "<style scoped>\n",
              "    .dataframe tbody tr th:only-of-type {\n",
              "        vertical-align: middle;\n",
              "    }\n",
              "\n",
              "    .dataframe tbody tr th {\n",
              "        vertical-align: top;\n",
              "    }\n",
              "\n",
              "    .dataframe thead th {\n",
              "        text-align: right;\n",
              "    }\n",
              "</style>\n",
              "<table border=\"1\" class=\"dataframe\">\n",
              "  <thead>\n",
              "    <tr style=\"text-align: right;\">\n",
              "      <th></th>\n",
              "      <th>userId</th>\n",
              "      <th>_created_at</th>\n",
              "      <th>locationTime</th>\n",
              "      <th>latitude</th>\n",
              "      <th>longitude</th>\n",
              "      <th>horizontalAccuracy</th>\n",
              "    </tr>\n",
              "  </thead>\n",
              "  <tbody>\n",
              "    <tr>\n",
              "      <th>0</th>\n",
              "      <td>d97ea50e-6dff-40e8-93db-19205a19b976</td>\n",
              "      <td>2019-07-01</td>\n",
              "      <td>8:00:01 PM</td>\n",
              "      <td>40.741217</td>\n",
              "      <td>-73.637016</td>\n",
              "      <td>10.0</td>\n",
              "    </tr>\n",
              "  </tbody>\n",
              "</table>\n",
              "</div>"
            ],
            "text/plain": [
              "                                 userId  ... horizontalAccuracy\n",
              "0  d97ea50e-6dff-40e8-93db-19205a19b976  ...               10.0\n",
              "\n",
              "[1 rows x 6 columns]"
            ]
          },
          "metadata": {
            "tags": []
          },
          "execution_count": 45
        }
      ]
    },
    {
      "cell_type": "code",
      "metadata": {
        "id": "aRarg8huGINm",
        "colab_type": "code",
        "colab": {
          "base_uri": "https://localhost:8080/",
          "height": 173
        },
        "outputId": "4c484931-db32-4e40-a263-e66ae19ead43"
      },
      "source": [
        "df_userCount = df_crowd_source.groupby('userId')['userId'].count().to_frame('count')\n",
        "df_userCount.sort_values(by=\"count\", ascending=False).head(3)"
      ],
      "execution_count": 46,
      "outputs": [
        {
          "output_type": "execute_result",
          "data": {
            "text/html": [
              "<div>\n",
              "<style scoped>\n",
              "    .dataframe tbody tr th:only-of-type {\n",
              "        vertical-align: middle;\n",
              "    }\n",
              "\n",
              "    .dataframe tbody tr th {\n",
              "        vertical-align: top;\n",
              "    }\n",
              "\n",
              "    .dataframe thead th {\n",
              "        text-align: right;\n",
              "    }\n",
              "</style>\n",
              "<table border=\"1\" class=\"dataframe\">\n",
              "  <thead>\n",
              "    <tr style=\"text-align: right;\">\n",
              "      <th></th>\n",
              "      <th>count</th>\n",
              "    </tr>\n",
              "    <tr>\n",
              "      <th>userId</th>\n",
              "      <th></th>\n",
              "    </tr>\n",
              "  </thead>\n",
              "  <tbody>\n",
              "    <tr>\n",
              "      <th>615d12dc-e77c-4aef-a953-007249f8492e</th>\n",
              "      <td>18963</td>\n",
              "    </tr>\n",
              "    <tr>\n",
              "      <th>a1bb8718-6999-4892-95fb-66c4601fc891</th>\n",
              "      <td>16155</td>\n",
              "    </tr>\n",
              "    <tr>\n",
              "      <th>7f72fd31-0cbc-46cd-8c59-63928eb56ed5</th>\n",
              "      <td>15435</td>\n",
              "    </tr>\n",
              "  </tbody>\n",
              "</table>\n",
              "</div>"
            ],
            "text/plain": [
              "                                      count\n",
              "userId                                     \n",
              "615d12dc-e77c-4aef-a953-007249f8492e  18963\n",
              "a1bb8718-6999-4892-95fb-66c4601fc891  16155\n",
              "7f72fd31-0cbc-46cd-8c59-63928eb56ed5  15435"
            ]
          },
          "metadata": {
            "tags": []
          },
          "execution_count": 46
        }
      ]
    },
    {
      "cell_type": "code",
      "metadata": {
        "id": "xjLgKZ_xQ31z",
        "colab_type": "code",
        "colab": {
          "base_uri": "https://localhost:8080/",
          "height": 328
        },
        "outputId": "1abd686d-ed63-49a9-d8e3-b74874b6e740"
      },
      "source": [
        "df_crowd_source[df_crowd_source['userId'] == '615d12dc-e77c-4aef-a953-007249f8492e'].groupby('_created_at').count()"
      ],
      "execution_count": 47,
      "outputs": [
        {
          "output_type": "execute_result",
          "data": {
            "text/html": [
              "<div>\n",
              "<style scoped>\n",
              "    .dataframe tbody tr th:only-of-type {\n",
              "        vertical-align: middle;\n",
              "    }\n",
              "\n",
              "    .dataframe tbody tr th {\n",
              "        vertical-align: top;\n",
              "    }\n",
              "\n",
              "    .dataframe thead th {\n",
              "        text-align: right;\n",
              "    }\n",
              "</style>\n",
              "<table border=\"1\" class=\"dataframe\">\n",
              "  <thead>\n",
              "    <tr style=\"text-align: right;\">\n",
              "      <th></th>\n",
              "      <th>userId</th>\n",
              "      <th>locationTime</th>\n",
              "      <th>latitude</th>\n",
              "      <th>longitude</th>\n",
              "      <th>horizontalAccuracy</th>\n",
              "    </tr>\n",
              "    <tr>\n",
              "      <th>_created_at</th>\n",
              "      <th></th>\n",
              "      <th></th>\n",
              "      <th></th>\n",
              "      <th></th>\n",
              "      <th></th>\n",
              "    </tr>\n",
              "  </thead>\n",
              "  <tbody>\n",
              "    <tr>\n",
              "      <th>2020-01-04</th>\n",
              "      <td>187</td>\n",
              "      <td>187</td>\n",
              "      <td>187</td>\n",
              "      <td>187</td>\n",
              "      <td>187</td>\n",
              "    </tr>\n",
              "    <tr>\n",
              "      <th>2020-01-05</th>\n",
              "      <td>2803</td>\n",
              "      <td>2803</td>\n",
              "      <td>2803</td>\n",
              "      <td>2803</td>\n",
              "      <td>2803</td>\n",
              "    </tr>\n",
              "    <tr>\n",
              "      <th>2020-01-06</th>\n",
              "      <td>2264</td>\n",
              "      <td>2264</td>\n",
              "      <td>2264</td>\n",
              "      <td>2264</td>\n",
              "      <td>2264</td>\n",
              "    </tr>\n",
              "    <tr>\n",
              "      <th>2020-01-07</th>\n",
              "      <td>2813</td>\n",
              "      <td>2813</td>\n",
              "      <td>2813</td>\n",
              "      <td>2813</td>\n",
              "      <td>2813</td>\n",
              "    </tr>\n",
              "    <tr>\n",
              "      <th>2020-01-08</th>\n",
              "      <td>2816</td>\n",
              "      <td>2816</td>\n",
              "      <td>2816</td>\n",
              "      <td>2816</td>\n",
              "      <td>2816</td>\n",
              "    </tr>\n",
              "    <tr>\n",
              "      <th>2020-01-09</th>\n",
              "      <td>2725</td>\n",
              "      <td>2725</td>\n",
              "      <td>2725</td>\n",
              "      <td>2725</td>\n",
              "      <td>2725</td>\n",
              "    </tr>\n",
              "    <tr>\n",
              "      <th>2020-01-10</th>\n",
              "      <td>2822</td>\n",
              "      <td>2822</td>\n",
              "      <td>2822</td>\n",
              "      <td>2822</td>\n",
              "      <td>2822</td>\n",
              "    </tr>\n",
              "    <tr>\n",
              "      <th>2020-01-11</th>\n",
              "      <td>2533</td>\n",
              "      <td>2533</td>\n",
              "      <td>2533</td>\n",
              "      <td>2533</td>\n",
              "      <td>2533</td>\n",
              "    </tr>\n",
              "  </tbody>\n",
              "</table>\n",
              "</div>"
            ],
            "text/plain": [
              "             userId  locationTime  latitude  longitude  horizontalAccuracy\n",
              "_created_at                                                               \n",
              "2020-01-04      187           187       187        187                 187\n",
              "2020-01-05     2803          2803      2803       2803                2803\n",
              "2020-01-06     2264          2264      2264       2264                2264\n",
              "2020-01-07     2813          2813      2813       2813                2813\n",
              "2020-01-08     2816          2816      2816       2816                2816\n",
              "2020-01-09     2725          2725      2725       2725                2725\n",
              "2020-01-10     2822          2822      2822       2822                2822\n",
              "2020-01-11     2533          2533      2533       2533                2533"
            ]
          },
          "metadata": {
            "tags": []
          },
          "execution_count": 47
        }
      ]
    },
    {
      "cell_type": "code",
      "metadata": {
        "id": "zSUscdImSDMY",
        "colab_type": "code",
        "colab": {}
      },
      "source": [
        "df_user_date_count = df_crowd_source.groupby([\n",
        "    pd.Grouper('userId'),\n",
        "    pd.Grouper('_created_at')]\n",
        ")['userId'].count().to_frame('count')"
      ],
      "execution_count": 0,
      "outputs": []
    },
    {
      "cell_type": "code",
      "metadata": {
        "id": "ptLrb1wdUsNz",
        "colab_type": "code",
        "colab": {
          "base_uri": "https://localhost:8080/",
          "height": 173
        },
        "outputId": "6de727d4-1ce3-4fb0-a956-377011f1318e"
      },
      "source": [
        "df_user_date_count.head(3)"
      ],
      "execution_count": 50,
      "outputs": [
        {
          "output_type": "execute_result",
          "data": {
            "text/html": [
              "<div>\n",
              "<style scoped>\n",
              "    .dataframe tbody tr th:only-of-type {\n",
              "        vertical-align: middle;\n",
              "    }\n",
              "\n",
              "    .dataframe tbody tr th {\n",
              "        vertical-align: top;\n",
              "    }\n",
              "\n",
              "    .dataframe thead th {\n",
              "        text-align: right;\n",
              "    }\n",
              "</style>\n",
              "<table border=\"1\" class=\"dataframe\">\n",
              "  <thead>\n",
              "    <tr style=\"text-align: right;\">\n",
              "      <th></th>\n",
              "      <th></th>\n",
              "      <th>count</th>\n",
              "    </tr>\n",
              "    <tr>\n",
              "      <th>userId</th>\n",
              "      <th>_created_at</th>\n",
              "      <th></th>\n",
              "    </tr>\n",
              "  </thead>\n",
              "  <tbody>\n",
              "    <tr>\n",
              "      <th rowspan=\"3\" valign=\"top\">0003476a-5cd9-4e3f-b180-208bbaf03363</th>\n",
              "      <th>2019-07-17</th>\n",
              "      <td>95</td>\n",
              "    </tr>\n",
              "    <tr>\n",
              "      <th>2019-07-18</th>\n",
              "      <td>14</td>\n",
              "    </tr>\n",
              "    <tr>\n",
              "      <th>2019-07-19</th>\n",
              "      <td>129</td>\n",
              "    </tr>\n",
              "  </tbody>\n",
              "</table>\n",
              "</div>"
            ],
            "text/plain": [
              "                                                  count\n",
              "userId                               _created_at       \n",
              "0003476a-5cd9-4e3f-b180-208bbaf03363 2019-07-17      95\n",
              "                                     2019-07-18      14\n",
              "                                     2019-07-19     129"
            ]
          },
          "metadata": {
            "tags": []
          },
          "execution_count": 50
        }
      ]
    },
    {
      "cell_type": "code",
      "metadata": {
        "id": "RGdLwJz2U0BH",
        "colab_type": "code",
        "colab": {
          "base_uri": "https://localhost:8080/",
          "height": 102
        },
        "outputId": "d3369927-8f7c-43e4-c387-5f5b45ccbe3a"
      },
      "source": [
        "df_crowd_source['_created_at'].describe()"
      ],
      "execution_count": 53,
      "outputs": [
        {
          "output_type": "execute_result",
          "data": {
            "text/plain": [
              "count        1486295\n",
              "unique           214\n",
              "top       2019-07-03\n",
              "freq           47661\n",
              "Name: _created_at, dtype: object"
            ]
          },
          "metadata": {
            "tags": []
          },
          "execution_count": 53
        }
      ]
    },
    {
      "cell_type": "code",
      "metadata": {
        "id": "o9t9XdpbWd0v",
        "colab_type": "code",
        "colab": {
          "base_uri": "https://localhost:8080/",
          "height": 370
        },
        "outputId": "7281c70e-0c91-46c4-9217-75f0d1546a83"
      },
      "source": [
        "plt.figure(figsize=(16,5))\n",
        "plt.suptitle('Charts showing distribution of logs/day'\n",
        ", fontsize=16)\n",
        "sb.lineplot(y='count_', x='_created_at', data=q2b, color='green')\n",
        "plt.xlabel(\"YYYY-MM\")\n",
        "plt.ylabel(\"Log count\")\n",
        "plt.show()"
      ],
      "execution_count": 101,
      "outputs": [
        {
          "output_type": "display_data",
          "data": {
            "image/png": "[encoded data removed]",
            "text/plain": [
              "<Figure size 1152x360 with 1 Axes>"
            ]
          },
          "metadata": {
            "tags": []
          }
        }
      ]
    },
    {
      "cell_type": "code",
      "metadata": {
        "id": "DjOV6v76SB6r",
        "colab_type": "code",
        "colab": {}
      },
      "source": [
        "q2b = df_crowd_source.groupby('_created_at')['_created_at'].count().to_frame('count')\n",
        "q2b = q2b.add_suffix('_').reset_index()"
      ],
      "execution_count": 0,
      "outputs": []
    }
  ]
}