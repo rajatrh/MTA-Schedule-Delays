{
  "nbformat": 4,
  "nbformat_minor": 0,
  "metadata": {
    "colab": {
      "name": "User_Analysis.ipynb",
      "provenance": [],
      "collapsed_sections": [],
      "toc_visible": true,
      "authorship_tag": "ABX9TyO6RJCGZu8YEF5dJgCWXqH8",
      "include_colab_link": true
    },
    "kernelspec": {
      "name": "python3",
      "display_name": "Python 3"
    },
    "widgets": {
      "application/vnd.jupyter.widget-state+json": {
        "6c97baaa9c9641eaa4aed63dc081d7ce": {
          "model_module": "jupyter-gmaps",
          "model_name": "FigureModel",
          "state": {
            "_view_name": "FigureView",
            "_view_module": "jupyter-gmaps",
            "_dom_classes": [],
            "_model_name": "FigureModel",
            "_map": "IPY_MODEL_68b56a2b90d54216a6913e4327724c66",
            "_model_module_version": "0.9.0",
            "_view_count": null,
            "_view_module_version": "0.9.0",
            "_toolbar": "IPY_MODEL_1126625aa01546a3815c275ac33c4367",
            "_errors_box": "IPY_MODEL_f2b97d6fa2764398a816d65caca84a2e",
            "_model_module": "jupyter-gmaps",
            "layout": "IPY_MODEL_356142d6e7da43e89d525d10af29f797"
          }
        }
      }
    }
  },
  "cells": [
    {
      "cell_type": "markdown",
      "metadata": {
        "id": "view-in-github",
        "colab_type": "text"
      },
      "source": [
        "<a href=\"https://colab.research.google.com/github/rajatrh/MTA-Schedule-Delays/blob/master/User_Analysis.ipynb\" target=\"_parent\"><img src=\"https://colab.research.google.com/assets/colab-badge.svg\" alt=\"Open In Colab\"/></a>"
      ]
    },
    {
      "cell_type": "code",
      "metadata": {
        "id": "QIDrgTMVFJNq",
        "colab_type": "code",
        "colab": {}
      },
      "source": [
        "import pandas as pd\n",
        "import matplotlib.pyplot as plt\n",
        "import numpy as np\n",
        "import seaborn as sb\n",
        "from dateutil import tz\n",
        "import math"
      ],
      "execution_count": 0,
      "outputs": []
    },
    {
      "cell_type": "code",
      "metadata": {
        "id": "3zTvp34bFQwR",
        "colab_type": "code",
        "colab": {}
      },
      "source": [
        "from google.colab import drive\n",
        "drive.mount('/content/drive')"
      ],
      "execution_count": 0,
      "outputs": []
    },
    {
      "cell_type": "code",
      "metadata": {
        "id": "mz5bEcyPFcuP",
        "colab_type": "code",
        "colab": {}
      },
      "source": [
        "df_crowd_source = pd.read_csv('/content/drive/My Drive/523 524/CrowdsourcingLocationLog.csv')"
      ],
      "execution_count": 0,
      "outputs": []
    },
    {
      "cell_type": "code",
      "metadata": {
        "id": "yKvEgHdTobBv",
        "colab_type": "code",
        "colab": {}
      },
      "source": [
        "df_stations = pd.read_csv('/content/drive/My Drive/523 524/meta_data/stops_lirr.csv')"
      ],
      "execution_count": 0,
      "outputs": []
    },
    {
      "cell_type": "code",
      "metadata": {
        "id": "JIWKA5mlSX3w",
        "colab_type": "code",
        "colab": {}
      },
      "source": [
        "def convertToDate(dateTime):\n",
        "  cur = pd.to_datetime(dateTime, errors='coerce')\n",
        "  cur.tz_localize(None)\n",
        "  return cur.date()"
      ],
      "execution_count": 0,
      "outputs": []
    },
    {
      "cell_type": "code",
      "metadata": {
        "id": "VYLAwVsISTsN",
        "colab_type": "code",
        "colab": {}
      },
      "source": [
        "df_crowd_source['_created_at'] = df_crowd_source.apply(lambda x: convertToDate(x['_created_at']),axis=1)"
      ],
      "execution_count": 0,
      "outputs": []
    },
    {
      "cell_type": "code",
      "metadata": {
        "id": "8ZySZVXIGFLd",
        "colab_type": "code",
        "outputId": "3500f73f-0e91-448e-c62f-5d2f072fb4c6",
        "colab": {
          "base_uri": "https://localhost:8080/",
          "height": 34
        }
      },
      "source": [
        "df_crowd_source.shape"
      ],
      "execution_count": 0,
      "outputs": [
        {
          "output_type": "execute_result",
          "data": {
            "text/plain": [
              "(1486295, 6)"
            ]
          },
          "metadata": {
            "tags": []
          },
          "execution_count": 6
        }
      ]
    },
    {
      "cell_type": "code",
      "metadata": {
        "id": "tLOyxCfyuVXj",
        "colab_type": "code",
        "outputId": "d042096d-0c4b-415c-bc42-c2b759fe6531",
        "colab": {
          "base_uri": "https://localhost:8080/",
          "height": 114
        }
      },
      "source": [
        "df_stations.head(1)"
      ],
      "execution_count": 0,
      "outputs": [
        {
          "output_type": "execute_result",
          "data": {
            "text/html": [
              "<div>\n",
              "<style scoped>\n",
              "    .dataframe tbody tr th:only-of-type {\n",
              "        vertical-align: middle;\n",
              "    }\n",
              "\n",
              "    .dataframe tbody tr th {\n",
              "        vertical-align: top;\n",
              "    }\n",
              "\n",
              "    .dataframe thead th {\n",
              "        text-align: right;\n",
              "    }\n",
              "</style>\n",
              "<table border=\"1\" class=\"dataframe\">\n",
              "  <thead>\n",
              "    <tr style=\"text-align: right;\">\n",
              "      <th></th>\n",
              "      <th>Unnamed: 0</th>\n",
              "      <th>stop_id</th>\n",
              "      <th>stop_name</th>\n",
              "      <th>stop_desc</th>\n",
              "      <th>stop_lat</th>\n",
              "      <th>stop_lon</th>\n",
              "      <th>stop_url</th>\n",
              "      <th>wheelchair_boarding</th>\n",
              "    </tr>\n",
              "  </thead>\n",
              "  <tbody>\n",
              "    <tr>\n",
              "      <th>0</th>\n",
              "      <td>0</td>\n",
              "      <td>237</td>\n",
              "      <td>Penn Station</td>\n",
              "      <td>34th Street between 7th &amp; 8th Avenues.</td>\n",
              "      <td>40.750588</td>\n",
              "      <td>-73.993584</td>\n",
              "      <td>http://lirr42.mta.info/stationInfo.php?id=8</td>\n",
              "      <td>1</td>\n",
              "    </tr>\n",
              "  </tbody>\n",
              "</table>\n",
              "</div>"
            ],
            "text/plain": [
              "   Unnamed: 0  ...  wheelchair_boarding\n",
              "0           0  ...                    1\n",
              "\n",
              "[1 rows x 8 columns]"
            ]
          },
          "metadata": {
            "tags": []
          },
          "execution_count": 38
        }
      ]
    },
    {
      "cell_type": "code",
      "metadata": {
        "id": "hMmKpD58GJfT",
        "colab_type": "code",
        "outputId": "10ce93b2-b8f7-49a3-d946-6c7cf245b01c",
        "colab": {
          "base_uri": "https://localhost:8080/",
          "height": 80
        }
      },
      "source": [
        "df_crowd_source.head(1)"
      ],
      "execution_count": 0,
      "outputs": [
        {
          "output_type": "execute_result",
          "data": {
            "text/html": [
              "<div>\n",
              "<style scoped>\n",
              "    .dataframe tbody tr th:only-of-type {\n",
              "        vertical-align: middle;\n",
              "    }\n",
              "\n",
              "    .dataframe tbody tr th {\n",
              "        vertical-align: top;\n",
              "    }\n",
              "\n",
              "    .dataframe thead th {\n",
              "        text-align: right;\n",
              "    }\n",
              "</style>\n",
              "<table border=\"1\" class=\"dataframe\">\n",
              "  <thead>\n",
              "    <tr style=\"text-align: right;\">\n",
              "      <th></th>\n",
              "      <th>userId</th>\n",
              "      <th>_created_at</th>\n",
              "      <th>locationTime</th>\n",
              "      <th>latitude</th>\n",
              "      <th>longitude</th>\n",
              "      <th>horizontalAccuracy</th>\n",
              "    </tr>\n",
              "  </thead>\n",
              "  <tbody>\n",
              "    <tr>\n",
              "      <th>0</th>\n",
              "      <td>d97ea50e-6dff-40e8-93db-19205a19b976</td>\n",
              "      <td>2019-07-01</td>\n",
              "      <td>8:00:01 PM</td>\n",
              "      <td>40.741217</td>\n",
              "      <td>-73.637016</td>\n",
              "      <td>10.0</td>\n",
              "    </tr>\n",
              "  </tbody>\n",
              "</table>\n",
              "</div>"
            ],
            "text/plain": [
              "                                 userId  ... horizontalAccuracy\n",
              "0  d97ea50e-6dff-40e8-93db-19205a19b976  ...               10.0\n",
              "\n",
              "[1 rows x 6 columns]"
            ]
          },
          "metadata": {
            "tags": []
          },
          "execution_count": 7
        }
      ]
    },
    {
      "cell_type": "code",
      "metadata": {
        "id": "aRarg8huGINm",
        "colab_type": "code",
        "outputId": "39458106-80aa-4ff1-9771-84b1bdbffb45",
        "colab": {
          "base_uri": "https://localhost:8080/",
          "height": 173
        }
      },
      "source": [
        "df_userCount = df_crowd_source.groupby('userId')['userId'].count().to_frame('count')\n",
        "df_userCount.sort_values(by=\"count\", ascending=False).head(3)"
      ],
      "execution_count": 0,
      "outputs": [
        {
          "output_type": "execute_result",
          "data": {
            "text/html": [
              "<div>\n",
              "<style scoped>\n",
              "    .dataframe tbody tr th:only-of-type {\n",
              "        vertical-align: middle;\n",
              "    }\n",
              "\n",
              "    .dataframe tbody tr th {\n",
              "        vertical-align: top;\n",
              "    }\n",
              "\n",
              "    .dataframe thead th {\n",
              "        text-align: right;\n",
              "    }\n",
              "</style>\n",
              "<table border=\"1\" class=\"dataframe\">\n",
              "  <thead>\n",
              "    <tr style=\"text-align: right;\">\n",
              "      <th></th>\n",
              "      <th>count</th>\n",
              "    </tr>\n",
              "    <tr>\n",
              "      <th>userId</th>\n",
              "      <th></th>\n",
              "    </tr>\n",
              "  </thead>\n",
              "  <tbody>\n",
              "    <tr>\n",
              "      <th>615d12dc-e77c-4aef-a953-007249f8492e</th>\n",
              "      <td>18963</td>\n",
              "    </tr>\n",
              "    <tr>\n",
              "      <th>a1bb8718-6999-4892-95fb-66c4601fc891</th>\n",
              "      <td>16155</td>\n",
              "    </tr>\n",
              "    <tr>\n",
              "      <th>7f72fd31-0cbc-46cd-8c59-63928eb56ed5</th>\n",
              "      <td>15435</td>\n",
              "    </tr>\n",
              "  </tbody>\n",
              "</table>\n",
              "</div>"
            ],
            "text/plain": [
              "                                      count\n",
              "userId                                     \n",
              "615d12dc-e77c-4aef-a953-007249f8492e  18963\n",
              "a1bb8718-6999-4892-95fb-66c4601fc891  16155\n",
              "7f72fd31-0cbc-46cd-8c59-63928eb56ed5  15435"
            ]
          },
          "metadata": {
            "tags": []
          },
          "execution_count": 8
        }
      ]
    },
    {
      "cell_type": "code",
      "metadata": {
        "id": "xjLgKZ_xQ31z",
        "colab_type": "code",
        "outputId": "8b377776-14d6-4ecb-f19b-f5210341d3ae",
        "colab": {
          "base_uri": "https://localhost:8080/",
          "height": 328
        }
      },
      "source": [
        "df_crowd_source[df_crowd_source['userId'] == '615d12dc-e77c-4aef-a953-007249f8492e'].groupby('_created_at').count()"
      ],
      "execution_count": 0,
      "outputs": [
        {
          "output_type": "execute_result",
          "data": {
            "text/html": [
              "<div>\n",
              "<style scoped>\n",
              "    .dataframe tbody tr th:only-of-type {\n",
              "        vertical-align: middle;\n",
              "    }\n",
              "\n",
              "    .dataframe tbody tr th {\n",
              "        vertical-align: top;\n",
              "    }\n",
              "\n",
              "    .dataframe thead th {\n",
              "        text-align: right;\n",
              "    }\n",
              "</style>\n",
              "<table border=\"1\" class=\"dataframe\">\n",
              "  <thead>\n",
              "    <tr style=\"text-align: right;\">\n",
              "      <th></th>\n",
              "      <th>userId</th>\n",
              "      <th>locationTime</th>\n",
              "      <th>latitude</th>\n",
              "      <th>longitude</th>\n",
              "      <th>horizontalAccuracy</th>\n",
              "    </tr>\n",
              "    <tr>\n",
              "      <th>_created_at</th>\n",
              "      <th></th>\n",
              "      <th></th>\n",
              "      <th></th>\n",
              "      <th></th>\n",
              "      <th></th>\n",
              "    </tr>\n",
              "  </thead>\n",
              "  <tbody>\n",
              "    <tr>\n",
              "      <th>2020-01-04</th>\n",
              "      <td>187</td>\n",
              "      <td>187</td>\n",
              "      <td>187</td>\n",
              "      <td>187</td>\n",
              "      <td>187</td>\n",
              "    </tr>\n",
              "    <tr>\n",
              "      <th>2020-01-05</th>\n",
              "      <td>2803</td>\n",
              "      <td>2803</td>\n",
              "      <td>2803</td>\n",
              "      <td>2803</td>\n",
              "      <td>2803</td>\n",
              "    </tr>\n",
              "    <tr>\n",
              "      <th>2020-01-06</th>\n",
              "      <td>2264</td>\n",
              "      <td>2264</td>\n",
              "      <td>2264</td>\n",
              "      <td>2264</td>\n",
              "      <td>2264</td>\n",
              "    </tr>\n",
              "    <tr>\n",
              "      <th>2020-01-07</th>\n",
              "      <td>2813</td>\n",
              "      <td>2813</td>\n",
              "      <td>2813</td>\n",
              "      <td>2813</td>\n",
              "      <td>2813</td>\n",
              "    </tr>\n",
              "    <tr>\n",
              "      <th>2020-01-08</th>\n",
              "      <td>2816</td>\n",
              "      <td>2816</td>\n",
              "      <td>2816</td>\n",
              "      <td>2816</td>\n",
              "      <td>2816</td>\n",
              "    </tr>\n",
              "    <tr>\n",
              "      <th>2020-01-09</th>\n",
              "      <td>2725</td>\n",
              "      <td>2725</td>\n",
              "      <td>2725</td>\n",
              "      <td>2725</td>\n",
              "      <td>2725</td>\n",
              "    </tr>\n",
              "    <tr>\n",
              "      <th>2020-01-10</th>\n",
              "      <td>2822</td>\n",
              "      <td>2822</td>\n",
              "      <td>2822</td>\n",
              "      <td>2822</td>\n",
              "      <td>2822</td>\n",
              "    </tr>\n",
              "    <tr>\n",
              "      <th>2020-01-11</th>\n",
              "      <td>2533</td>\n",
              "      <td>2533</td>\n",
              "      <td>2533</td>\n",
              "      <td>2533</td>\n",
              "      <td>2533</td>\n",
              "    </tr>\n",
              "  </tbody>\n",
              "</table>\n",
              "</div>"
            ],
            "text/plain": [
              "             userId  locationTime  latitude  longitude  horizontalAccuracy\n",
              "_created_at                                                               \n",
              "2020-01-04      187           187       187        187                 187\n",
              "2020-01-05     2803          2803      2803       2803                2803\n",
              "2020-01-06     2264          2264      2264       2264                2264\n",
              "2020-01-07     2813          2813      2813       2813                2813\n",
              "2020-01-08     2816          2816      2816       2816                2816\n",
              "2020-01-09     2725          2725      2725       2725                2725\n",
              "2020-01-10     2822          2822      2822       2822                2822\n",
              "2020-01-11     2533          2533      2533       2533                2533"
            ]
          },
          "metadata": {
            "tags": []
          },
          "execution_count": 9
        }
      ]
    },
    {
      "cell_type": "code",
      "metadata": {
        "id": "zSUscdImSDMY",
        "colab_type": "code",
        "colab": {}
      },
      "source": [
        "df_user_date_count = df_crowd_source.groupby([\n",
        "    pd.Grouper('userId'),\n",
        "    pd.Grouper('_created_at')]\n",
        ")['userId'].count().to_frame('count')"
      ],
      "execution_count": 0,
      "outputs": []
    },
    {
      "cell_type": "code",
      "metadata": {
        "id": "ptLrb1wdUsNz",
        "colab_type": "code",
        "outputId": "e78095a9-cad8-4a52-e2a0-5ce9d9cc7097",
        "colab": {
          "base_uri": "https://localhost:8080/",
          "height": 173
        }
      },
      "source": [
        "df_user_date_count.head(3)"
      ],
      "execution_count": 0,
      "outputs": [
        {
          "output_type": "execute_result",
          "data": {
            "text/html": [
              "<div>\n",
              "<style scoped>\n",
              "    .dataframe tbody tr th:only-of-type {\n",
              "        vertical-align: middle;\n",
              "    }\n",
              "\n",
              "    .dataframe tbody tr th {\n",
              "        vertical-align: top;\n",
              "    }\n",
              "\n",
              "    .dataframe thead th {\n",
              "        text-align: right;\n",
              "    }\n",
              "</style>\n",
              "<table border=\"1\" class=\"dataframe\">\n",
              "  <thead>\n",
              "    <tr style=\"text-align: right;\">\n",
              "      <th></th>\n",
              "      <th></th>\n",
              "      <th>count</th>\n",
              "    </tr>\n",
              "    <tr>\n",
              "      <th>userId</th>\n",
              "      <th>_created_at</th>\n",
              "      <th></th>\n",
              "    </tr>\n",
              "  </thead>\n",
              "  <tbody>\n",
              "    <tr>\n",
              "      <th rowspan=\"3\" valign=\"top\">0003476a-5cd9-4e3f-b180-208bbaf03363</th>\n",
              "      <th>2019-07-17</th>\n",
              "      <td>95</td>\n",
              "    </tr>\n",
              "    <tr>\n",
              "      <th>2019-07-18</th>\n",
              "      <td>14</td>\n",
              "    </tr>\n",
              "    <tr>\n",
              "      <th>2019-07-19</th>\n",
              "      <td>129</td>\n",
              "    </tr>\n",
              "  </tbody>\n",
              "</table>\n",
              "</div>"
            ],
            "text/plain": [
              "                                                  count\n",
              "userId                               _created_at       \n",
              "0003476a-5cd9-4e3f-b180-208bbaf03363 2019-07-17      95\n",
              "                                     2019-07-18      14\n",
              "                                     2019-07-19     129"
            ]
          },
          "metadata": {
            "tags": []
          },
          "execution_count": 11
        }
      ]
    },
    {
      "cell_type": "code",
      "metadata": {
        "id": "RGdLwJz2U0BH",
        "colab_type": "code",
        "outputId": "6c7e449e-cbdf-4dd7-ec3c-aba03b23eb70",
        "colab": {
          "base_uri": "https://localhost:8080/",
          "height": 102
        }
      },
      "source": [
        "df_crowd_source['_created_at'].describe()"
      ],
      "execution_count": 0,
      "outputs": [
        {
          "output_type": "execute_result",
          "data": {
            "text/plain": [
              "count        1486295\n",
              "unique           214\n",
              "top       2019-07-03\n",
              "freq           47661\n",
              "Name: _created_at, dtype: object"
            ]
          },
          "metadata": {
            "tags": []
          },
          "execution_count": 12
        }
      ]
    },
    {
      "cell_type": "code",
      "metadata": {
        "id": "DjOV6v76SB6r",
        "colab_type": "code",
        "colab": {}
      },
      "source": [
        "q2b = df_crowd_source.groupby('_created_at')['_created_at'].count().to_frame('count')\n",
        "q2b = q2b.add_suffix('_').reset_index()"
      ],
      "execution_count": 0,
      "outputs": []
    },
    {
      "cell_type": "code",
      "metadata": {
        "id": "o9t9XdpbWd0v",
        "colab_type": "code",
        "outputId": "7e74d315-5099-4f4d-d555-d2ede444c89a",
        "colab": {
          "base_uri": "https://localhost:8080/",
          "height": 492
        }
      },
      "source": [
        "plt.figure(figsize=(16,5))\n",
        "plt.suptitle('Charts showing distribution of logs/day'\n",
        ", fontsize=16)\n",
        "sb.lineplot(y='count_', x='_created_at', data=q2b, color='green')\n",
        "plt.xlabel(\"YYYY-MM\")\n",
        "plt.ylabel(\"Log count\")\n",
        "plt.show()"
      ],
      "execution_count": 0,
      "outputs": [
        {
          "output_type": "stream",
          "text": [
            "/usr/local/lib/python3.6/dist-packages/pandas/plotting/_matplotlib/converter.py:103: FutureWarning: Using an implicitly registered datetime converter for a matplotlib plotting method. The converter was registered by pandas on import. Future versions of pandas will require you to explicitly register matplotlib converters.\n",
            "\n",
            "To register the converters:\n",
            "\t>>> from pandas.plotting import register_matplotlib_converters\n",
            "\t>>> register_matplotlib_converters()\n",
            "  warnings.warn(msg, FutureWarning)\n"
          ],
          "name": "stderr"
        },
        {
          "output_type": "display_data",
          "data": {
            "image/png": "[encoded data removed]",
            "text/plain": [
              "<Figure size 1152x360 with 1 Axes>"
            ]
          },
          "metadata": {
            "tags": []
          }
        }
      ]
    },
    {
      "cell_type": "code",
      "metadata": {
        "id": "j0zwXWaWoU3L",
        "colab_type": "code",
        "colab": {}
      },
      "source": [
        "# Haversine Formula\n",
        "def distance(lat1, lon1, lat2, lon2):\n",
        "    radius = 6371 # km\n",
        "\n",
        "    dlat = math.radians(lat2-lat1)\n",
        "    dlon = math.radians(lon2-lon1)\n",
        "    a = math.sin(dlat/2) * math.sin(dlat/2) + math.cos(math.radians(lat1)) \\\n",
        "        * math.cos(math.radians(lat2)) * math.sin(dlon/2) * math.sin(dlon/2)\n",
        "    c = 2 * math.atan2(math.sqrt(a), math.sqrt(1-a))\n",
        "    d = radius * c\n",
        "\n",
        "    return d"
      ],
      "execution_count": 0,
      "outputs": []
    },
    {
      "cell_type": "code",
      "metadata": {
        "id": "Xsk_uOGYonFt",
        "colab_type": "code",
        "colab": {}
      },
      "source": [
        "i=0\n",
        "for cs_index, cs_row in df_crowd_source.iterrows():\n",
        "  if i%1000 == 0:\n",
        "    print(i)\n",
        "  i=i+1\n",
        "  if cs_row['stop_id'] != 90:\n",
        "    continue\n",
        "  df_crowd_source.loc[cs_index, 'stop_id'] = -1\n",
        "  for s_index, s_row in df_stations.iterrows():\n",
        "    dist = distance(cs_row.latitude, cs_row.longitude, s_row.stop_lat, s_row.stop_lon)\n",
        "    if dist < 0.6:\n",
        "      df_crowd_source.loc[cs_index, 'stop_id'] =s_row.stop_id\n",
        "      break\n",
        "  "
      ],
      "execution_count": 0,
      "outputs": []
    },
    {
      "cell_type": "code",
      "metadata": {
        "id": "H__Frl75rWcP",
        "colab_type": "code",
        "outputId": "98fa90e2-0afb-4779-b9a5-278af0054e86",
        "colab": {
          "base_uri": "https://localhost:8080/",
          "height": 221
        }
      },
      "source": [
        "df_crowd_source['stop_id'].value_counts()"
      ],
      "execution_count": 0,
      "outputs": [
        {
          "output_type": "execute_result",
          "data": {
            "text/plain": [
              " 90     1214172\n",
              "-1       116123\n",
              " 102      32013\n",
              " 237      10118\n",
              " 214       6214\n",
              "         ...   \n",
              " 73          11\n",
              " 85          10\n",
              " 216          8\n",
              " 154          5\n",
              " 101          4\n",
              "Name: stop_id, Length: 124, dtype: int64"
            ]
          },
          "metadata": {
            "tags": []
          },
          "execution_count": 49
        }
      ]
    },
    {
      "cell_type": "code",
      "metadata": {
        "id": "JzFw64TIYjGK",
        "colab_type": "code",
        "colab": {}
      },
      "source": [
        "df_crowd_source.to_csv('cleaned_df_crowd_source')"
      ],
      "execution_count": 0,
      "outputs": []
    },
    {
      "cell_type": "code",
      "metadata": {
        "id": "EYWaDUKRq5jP",
        "colab_type": "code",
        "colab": {}
      },
      "source": [
        "df_fin_crowd_source = pd.read_csv('/content/drive/My Drive/523 524/meta_data/fin.csv')"
      ],
      "execution_count": 0,
      "outputs": []
    },
    {
      "cell_type": "code",
      "metadata": {
        "id": "K_K2eeuJwZKx",
        "colab_type": "code",
        "colab": {}
      },
      "source": [
        "df_fin_crowd_source.head(10)"
      ],
      "execution_count": 0,
      "outputs": []
    },
    {
      "cell_type": "code",
      "metadata": {
        "id": "rEDY9GoSwasd",
        "colab_type": "code",
        "outputId": "73463444-7540-467f-a64a-6cf5a758202d",
        "colab": {
          "base_uri": "https://localhost:8080/",
          "height": 221
        }
      },
      "source": [
        "df_fin_crowd_source['stop_id'].value_counts()"
      ],
      "execution_count": 0,
      "outputs": [
        {
          "output_type": "execute_result",
          "data": {
            "text/plain": [
              "-1      491136\n",
              " 102    109216\n",
              " 237     40335\n",
              " 214     22411\n",
              " 92      17979\n",
              "         ...  \n",
              " 123        76\n",
              " 65         53\n",
              " 216        42\n",
              " 101        40\n",
              " 73         16\n",
              "Name: stop_id, Length: 125, dtype: int64"
            ]
          },
          "metadata": {
            "tags": []
          },
          "execution_count": 46
        }
      ]
    },
    {
      "cell_type": "code",
      "metadata": {
        "id": "PZDY4z-lwoq5",
        "colab_type": "code",
        "colab": {}
      },
      "source": [
        ""
      ],
      "execution_count": 0,
      "outputs": []
    },
    {
      "cell_type": "code",
      "metadata": {
        "id": "cq7aGdLRwky1",
        "colab_type": "code",
        "colab": {}
      },
      "source": [
        ""
      ],
      "execution_count": 0,
      "outputs": []
    },
    {
      "cell_type": "code",
      "metadata": {
        "id": "KJVULJNggCay",
        "colab_type": "code",
        "colab": {}
      },
      "source": [
        "df_st = df_fin_crowd_source.groupby('stop_id')['stop_id'].count().to_frame('count')\n",
        "df_st = df_st.add_suffix('_').reset_index()"
      ],
      "execution_count": 0,
      "outputs": []
    },
    {
      "cell_type": "code",
      "metadata": {
        "id": "x4knbd1SRCSi",
        "colab_type": "code",
        "colab": {}
      },
      "source": [
        "df_st = df_st.iloc[1:]"
      ],
      "execution_count": 0,
      "outputs": []
    },
    {
      "cell_type": "code",
      "metadata": {
        "id": "LNzzjV39tfVJ",
        "colab_type": "code",
        "colab": {}
      },
      "source": [
        "for index1, row1 in df_st.iterrows():\n",
        "  for index2, row2 in df_stations.iterrows():\n",
        "    if row2['stop_id'] == row1['stop_id']:\n",
        "      df_st.loc[index1, 'stop_name'] = row2['stop_name']\n",
        "      df_st.loc[index1, 'stop_lat'] = row2['stop_lat']\n",
        "      df_st.loc[index1, 'stop_lon'] = row2['stop_lon']"
      ],
      "execution_count": 0,
      "outputs": []
    },
    {
      "cell_type": "code",
      "metadata": {
        "id": "wRjS-sPciAgt",
        "colab_type": "code",
        "outputId": "2fe6f6a1-6214-4fcb-e3a2-5efc864507dd",
        "colab": {
          "base_uri": "https://localhost:8080/",
          "height": 370
        }
      },
      "source": [
        "plt.figure(figsize=(16,5))\n",
        "plt.suptitle('Charts showing distribution of user logs/station'\n",
        ", fontsize=16)\n",
        "sb.barplot(y='count_', x='stop_name', data=df_st.sort_values(by=\"count_\", ascending=False).head(12), color='green')\n",
        "plt.xlabel(\"Station Names\")\n",
        "plt.ylabel(\"Location Logs\")\n",
        "plt.show()"
      ],
      "execution_count": 0,
      "outputs": [
        {
          "output_type": "display_data",
          "data": {
            "image/png": "[encoded data removed]",
            "text/plain": [
              "<Figure size 1152x360 with 1 Axes>"
            ]
          },
          "metadata": {
            "tags": []
          }
        }
      ]
    },
    {
      "cell_type": "code",
      "metadata": {
        "id": "tT9p5EbqiB7M",
        "colab_type": "code",
        "outputId": "7d800bbe-e87b-46df-aaab-bf5260e984d7",
        "colab": {
          "base_uri": "https://localhost:8080/",
          "height": 421
        }
      },
      "source": [
        "df_st.sort_values(by=\"count_\", ascending=False).head(12)"
      ],
      "execution_count": 0,
      "outputs": [
        {
          "output_type": "execute_result",
          "data": {
            "text/html": [
              "<div>\n",
              "<style scoped>\n",
              "    .dataframe tbody tr th:only-of-type {\n",
              "        vertical-align: middle;\n",
              "    }\n",
              "\n",
              "    .dataframe tbody tr th {\n",
              "        vertical-align: top;\n",
              "    }\n",
              "\n",
              "    .dataframe thead th {\n",
              "        text-align: right;\n",
              "    }\n",
              "</style>\n",
              "<table border=\"1\" class=\"dataframe\">\n",
              "  <thead>\n",
              "    <tr style=\"text-align: right;\">\n",
              "      <th></th>\n",
              "      <th>stop_id</th>\n",
              "      <th>count_</th>\n",
              "      <th>stop_name</th>\n",
              "      <th>stop_lat</th>\n",
              "      <th>stop_lon</th>\n",
              "    </tr>\n",
              "  </thead>\n",
              "  <tbody>\n",
              "    <tr>\n",
              "      <th>57</th>\n",
              "      <td>102</td>\n",
              "      <td>109216</td>\n",
              "      <td>Jamaica</td>\n",
              "      <td>40.699608</td>\n",
              "      <td>-73.808530</td>\n",
              "    </tr>\n",
              "    <tr>\n",
              "      <th>123</th>\n",
              "      <td>237</td>\n",
              "      <td>40335</td>\n",
              "      <td>Penn Station</td>\n",
              "      <td>40.750588</td>\n",
              "      <td>-73.993584</td>\n",
              "    </tr>\n",
              "    <tr>\n",
              "      <th>113</th>\n",
              "      <td>214</td>\n",
              "      <td>22411</td>\n",
              "      <td>Woodside</td>\n",
              "      <td>40.745851</td>\n",
              "      <td>-73.902975</td>\n",
              "    </tr>\n",
              "    <tr>\n",
              "      <th>52</th>\n",
              "      <td>92</td>\n",
              "      <td>17979</td>\n",
              "      <td>Hicksville</td>\n",
              "      <td>40.767175</td>\n",
              "      <td>-73.528533</td>\n",
              "    </tr>\n",
              "    <tr>\n",
              "      <th>75</th>\n",
              "      <td>132</td>\n",
              "      <td>15775</td>\n",
              "      <td>Mineola</td>\n",
              "      <td>40.740347</td>\n",
              "      <td>-73.640863</td>\n",
              "    </tr>\n",
              "    <tr>\n",
              "      <th>58</th>\n",
              "      <td>107</td>\n",
              "      <td>14743</td>\n",
              "      <td>Kew Gardens</td>\n",
              "      <td>40.709649</td>\n",
              "      <td>-73.830888</td>\n",
              "    </tr>\n",
              "    <tr>\n",
              "      <th>50</th>\n",
              "      <td>90</td>\n",
              "      <td>12576</td>\n",
              "      <td>Hunterspoint Avenue</td>\n",
              "      <td>40.742390</td>\n",
              "      <td>-73.946790</td>\n",
              "    </tr>\n",
              "    <tr>\n",
              "      <th>30</th>\n",
              "      <td>55</td>\n",
              "      <td>11571</td>\n",
              "      <td>Forest Hills</td>\n",
              "      <td>40.719576</td>\n",
              "      <td>-73.844814</td>\n",
              "    </tr>\n",
              "    <tr>\n",
              "      <th>15</th>\n",
              "      <td>27</td>\n",
              "      <td>10792</td>\n",
              "      <td>Babylon</td>\n",
              "      <td>40.700689</td>\n",
              "      <td>-73.324056</td>\n",
              "    </tr>\n",
              "    <tr>\n",
              "      <th>111</th>\n",
              "      <td>211</td>\n",
              "      <td>10505</td>\n",
              "      <td>Valley Stream</td>\n",
              "      <td>40.661518</td>\n",
              "      <td>-73.704759</td>\n",
              "    </tr>\n",
              "    <tr>\n",
              "      <th>71</th>\n",
              "      <td>127</td>\n",
              "      <td>10432</td>\n",
              "      <td>Merillon Avenue</td>\n",
              "      <td>40.735169</td>\n",
              "      <td>-73.662521</td>\n",
              "    </tr>\n",
              "    <tr>\n",
              "      <th>83</th>\n",
              "      <td>152</td>\n",
              "      <td>9923</td>\n",
              "      <td>New Hyde Park</td>\n",
              "      <td>40.730757</td>\n",
              "      <td>-73.680959</td>\n",
              "    </tr>\n",
              "  </tbody>\n",
              "</table>\n",
              "</div>"
            ],
            "text/plain": [
              "     stop_id  count_            stop_name   stop_lat   stop_lon\n",
              "57       102  109216              Jamaica  40.699608 -73.808530\n",
              "123      237   40335         Penn Station  40.750588 -73.993584\n",
              "113      214   22411             Woodside  40.745851 -73.902975\n",
              "52        92   17979           Hicksville  40.767175 -73.528533\n",
              "75       132   15775              Mineola  40.740347 -73.640863\n",
              "58       107   14743          Kew Gardens  40.709649 -73.830888\n",
              "50        90   12576  Hunterspoint Avenue  40.742390 -73.946790\n",
              "30        55   11571         Forest Hills  40.719576 -73.844814\n",
              "15        27   10792              Babylon  40.700689 -73.324056\n",
              "111      211   10505        Valley Stream  40.661518 -73.704759\n",
              "71       127   10432      Merillon Avenue  40.735169 -73.662521\n",
              "83       152    9923        New Hyde Park  40.730757 -73.680959"
            ]
          },
          "metadata": {
            "tags": []
          },
          "execution_count": 13
        }
      ]
    },
    {
      "cell_type": "markdown",
      "metadata": {
        "id": "X-YGf6wqfdwZ",
        "colab_type": "text"
      },
      "source": [
        "## Plot the stationwise -> hourly, weekly breakdowns"
      ]
    },
    {
      "cell_type": "code",
      "metadata": {
        "id": "dXdczk1pQ0wS",
        "colab_type": "code",
        "colab": {}
      },
      "source": [
        "plt.figure(figsize=(5,4))\n",
        "stationNumber = 14\n",
        "df_102 = df_fin_crowd_source[df_fin_crowd_source['stop_id'] == stationNumber]\n",
        "df_102['parsed_time_hour'] = pd.to_datetime(df_102['locationTime'], errors='coerce').dt.hour\n",
        "df_102['parsed_day_of_week'] = pd.to_datetime(df_102['_created_at'], errors='coerce').dt.dayofweek\n",
        "\n",
        "df_102.groupby('parsed_time_hour')['stop_id'].count().plot.bar()"
      ],
      "execution_count": 0,
      "outputs": []
    },
    {
      "cell_type": "code",
      "metadata": {
        "id": "B_NbQEvXVH42",
        "colab_type": "code",
        "colab": {}
      },
      "source": [
        "df_102.groupby('parsed_day_of_week')['stop_id'].count().plot.bar()"
      ],
      "execution_count": 0,
      "outputs": []
    },
    {
      "cell_type": "markdown",
      "metadata": {
        "id": "36egrbfvfoLX",
        "colab_type": "text"
      },
      "source": [
        "## Loop through to find each stations busiest hour/day of the week"
      ]
    },
    {
      "cell_type": "code",
      "metadata": {
        "id": "wQTmolPOa1y9",
        "colab_type": "code",
        "colab": {}
      },
      "source": [
        "for s_index, s_row in df_st.iterrows():\n",
        "  stationNumber = s_row['stop_id']\n",
        "  df_stt = df_fin_crowd_source[df_fin_crowd_source['stop_id'] == stationNumber]\n",
        "  df_stt['parsed_time_hour'] = pd.to_datetime(df_stt['locationTime'], errors='coerce').dt.hour\n",
        "  df_stt['parsed_day_of_week'] = pd.to_datetime(df_stt['_created_at'], errors='coerce').dt.dayofweek\n",
        "  df_st.loc[s_index, 'busiest_hour'] = df_stt.groupby('parsed_time_hour')['userId'].count().sort_values(ascending=False).keys()[0]\n",
        "  df_st.loc[s_index, 'busiest_day_of_week'] = df_stt.groupby('parsed_day_of_week')['userId'].count().sort_values(ascending=False).keys()[0]"
      ],
      "execution_count": 0,
      "outputs": []
    },
    {
      "cell_type": "code",
      "metadata": {
        "id": "HM_HzTzIeyvo",
        "colab_type": "code",
        "outputId": "3fa92ed8-cfb4-49bf-f1c7-5dbaf1de0aae",
        "colab": {
          "base_uri": "https://localhost:8080/",
          "height": 419
        }
      },
      "source": [
        "df_st"
      ],
      "execution_count": 0,
      "outputs": [
        {
          "output_type": "execute_result",
          "data": {
            "text/html": [
              "<div>\n",
              "<style scoped>\n",
              "    .dataframe tbody tr th:only-of-type {\n",
              "        vertical-align: middle;\n",
              "    }\n",
              "\n",
              "    .dataframe tbody tr th {\n",
              "        vertical-align: top;\n",
              "    }\n",
              "\n",
              "    .dataframe thead th {\n",
              "        text-align: right;\n",
              "    }\n",
              "</style>\n",
              "<table border=\"1\" class=\"dataframe\">\n",
              "  <thead>\n",
              "    <tr style=\"text-align: right;\">\n",
              "      <th></th>\n",
              "      <th>stop_id</th>\n",
              "      <th>count_</th>\n",
              "      <th>stop_name</th>\n",
              "      <th>stop_lat</th>\n",
              "      <th>stop_lon</th>\n",
              "      <th>busiest_hour</th>\n",
              "      <th>busiest_day_of_week</th>\n",
              "    </tr>\n",
              "  </thead>\n",
              "  <tbody>\n",
              "    <tr>\n",
              "      <th>1</th>\n",
              "      <td>1</td>\n",
              "      <td>680</td>\n",
              "      <td>Albertson</td>\n",
              "      <td>40.772063</td>\n",
              "      <td>-73.641691</td>\n",
              "      <td>19.0</td>\n",
              "      <td>3.0</td>\n",
              "    </tr>\n",
              "    <tr>\n",
              "      <th>2</th>\n",
              "      <td>2</td>\n",
              "      <td>2608</td>\n",
              "      <td>Auburndale</td>\n",
              "      <td>40.761443</td>\n",
              "      <td>-73.789959</td>\n",
              "      <td>18.0</td>\n",
              "      <td>3.0</td>\n",
              "    </tr>\n",
              "    <tr>\n",
              "      <th>3</th>\n",
              "      <td>4</td>\n",
              "      <td>374</td>\n",
              "      <td>Amagansett</td>\n",
              "      <td>40.980040</td>\n",
              "      <td>-72.132334</td>\n",
              "      <td>14.0</td>\n",
              "      <td>6.0</td>\n",
              "    </tr>\n",
              "    <tr>\n",
              "      <th>4</th>\n",
              "      <td>8</td>\n",
              "      <td>4492</td>\n",
              "      <td>Amityville</td>\n",
              "      <td>40.680249</td>\n",
              "      <td>-73.420312</td>\n",
              "      <td>16.0</td>\n",
              "      <td>3.0</td>\n",
              "    </tr>\n",
              "    <tr>\n",
              "      <th>5</th>\n",
              "      <td>11</td>\n",
              "      <td>2803</td>\n",
              "      <td>Broadway</td>\n",
              "      <td>40.761653</td>\n",
              "      <td>-73.801766</td>\n",
              "      <td>19.0</td>\n",
              "      <td>3.0</td>\n",
              "    </tr>\n",
              "    <tr>\n",
              "      <th>...</th>\n",
              "      <td>...</td>\n",
              "      <td>...</td>\n",
              "      <td>...</td>\n",
              "      <td>...</td>\n",
              "      <td>...</td>\n",
              "      <td>...</td>\n",
              "      <td>...</td>\n",
              "    </tr>\n",
              "    <tr>\n",
              "      <th>120</th>\n",
              "      <td>225</td>\n",
              "      <td>7675</td>\n",
              "      <td>Baldwin</td>\n",
              "      <td>40.656732</td>\n",
              "      <td>-73.607162</td>\n",
              "      <td>18.0</td>\n",
              "      <td>3.0</td>\n",
              "    </tr>\n",
              "    <tr>\n",
              "      <th>121</th>\n",
              "      <td>226</td>\n",
              "      <td>6497</td>\n",
              "      <td>Merrick</td>\n",
              "      <td>40.663800</td>\n",
              "      <td>-73.550621</td>\n",
              "      <td>18.0</td>\n",
              "      <td>3.0</td>\n",
              "    </tr>\n",
              "    <tr>\n",
              "      <th>122</th>\n",
              "      <td>233</td>\n",
              "      <td>1605</td>\n",
              "      <td>Westhampton</td>\n",
              "      <td>40.830305</td>\n",
              "      <td>-72.650325</td>\n",
              "      <td>17.0</td>\n",
              "      <td>6.0</td>\n",
              "    </tr>\n",
              "    <tr>\n",
              "      <th>123</th>\n",
              "      <td>237</td>\n",
              "      <td>40335</td>\n",
              "      <td>Penn Station</td>\n",
              "      <td>40.750588</td>\n",
              "      <td>-73.993584</td>\n",
              "      <td>9.0</td>\n",
              "      <td>3.0</td>\n",
              "    </tr>\n",
              "    <tr>\n",
              "      <th>124</th>\n",
              "      <td>241</td>\n",
              "      <td>6481</td>\n",
              "      <td>Atlantic Terminal</td>\n",
              "      <td>40.683596</td>\n",
              "      <td>-73.975671</td>\n",
              "      <td>8.0</td>\n",
              "      <td>0.0</td>\n",
              "    </tr>\n",
              "  </tbody>\n",
              "</table>\n",
              "<p>124 rows × 7 columns</p>\n",
              "</div>"
            ],
            "text/plain": [
              "     stop_id  count_  ... busiest_hour  busiest_day_of_week\n",
              "1          1     680  ...         19.0                  3.0\n",
              "2          2    2608  ...         18.0                  3.0\n",
              "3          4     374  ...         14.0                  6.0\n",
              "4          8    4492  ...         16.0                  3.0\n",
              "5         11    2803  ...         19.0                  3.0\n",
              "..       ...     ...  ...          ...                  ...\n",
              "120      225    7675  ...         18.0                  3.0\n",
              "121      226    6497  ...         18.0                  3.0\n",
              "122      233    1605  ...         17.0                  6.0\n",
              "123      237   40335  ...          9.0                  3.0\n",
              "124      241    6481  ...          8.0                  0.0\n",
              "\n",
              "[124 rows x 7 columns]"
            ]
          },
          "metadata": {
            "tags": []
          },
          "execution_count": 15
        }
      ]
    },
    {
      "cell_type": "code",
      "metadata": {
        "id": "nN5-HlYJhdtt",
        "colab_type": "code",
        "colab": {}
      },
      "source": [
        "!pip install gmaps"
      ],
      "execution_count": 0,
      "outputs": []
    },
    {
      "cell_type": "code",
      "metadata": {
        "id": "DbISjkzMhm3-",
        "colab_type": "code",
        "colab": {}
      },
      "source": [
        "import gmaps\n",
        "import gmaps.datasets\n",
        "from ipywidgets.embed import embed_minimal_html"
      ],
      "execution_count": 0,
      "outputs": []
    },
    {
      "cell_type": "code",
      "metadata": {
        "id": "51Fv6z0tlQcf",
        "colab_type": "code",
        "colab": {}
      },
      "source": [
        "gmaps.configure(api_key='gmaps_api_key') "
      ],
      "execution_count": 0,
      "outputs": []
    },
    {
      "cell_type": "code",
      "metadata": {
        "id": "rYex871wnORd",
        "colab_type": "code",
        "outputId": "afcf3e7b-4fe3-4093-a27d-b783ae385a6f",
        "colab": {
          "base_uri": "https://localhost:8080/",
          "height": 17,
          "referenced_widgets": [
            "6c97baaa9c9641eaa4aed63dc081d7ce"
          ]
        }
      },
      "source": [
        "locations = df_st[['stop_lat', 'stop_lon']]\n",
        "\n",
        "weights = df_st['count_']\n",
        "\n",
        "fig = gmaps.figure()\n",
        "fig.add_layer(gmaps.heatmap_layer(locations, weights=weights, point_radius=11.0))\n",
        "fig"
      ],
      "execution_count": 0,
      "outputs": [
        {
          "output_type": "display_data",
          "data": {
            "application/vnd.jupyter.widget-view+json": {
              "model_id": "6c97baaa9c9641eaa4aed63dc081d7ce",
              "version_minor": 0,
              "version_major": 2
            },
            "text/plain": [
              "Figure(layout=FigureLayout(height='420px'))"
            ]
          },
          "metadata": {
            "tags": []
          }
        }
      ]
    },
    {
      "cell_type": "code",
      "metadata": {
        "id": "mVyAOOMtoLTe",
        "colab_type": "code",
        "colab": {}
      },
      "source": [
        "embed_minimal_html('export.html', views=[fig])"
      ],
      "execution_count": 0,
      "outputs": []
    },
    {
      "cell_type": "code",
      "metadata": {
        "id": "_d4z7isrr3os",
        "colab_type": "code",
        "colab": {}
      },
      "source": [
        ""
      ],
      "execution_count": 0,
      "outputs": []
    }
  ]
}